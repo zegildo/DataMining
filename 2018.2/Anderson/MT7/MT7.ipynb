{
 "cells": [
  {
   "cell_type": "markdown",
   "metadata": {},
   "source": [
    "# MT7: Desenvolvimento de métodos para medir  a coeficiencia  de Pearson e de Kendle "
   ]
  },
  {
   "cell_type": "code",
   "execution_count": 15,
   "metadata": {},
   "outputs": [],
   "source": [
    "import math\n",
    "\n",
    "pesoPeixe= [85,92,71,74,185,85,201,283,255,22]\n",
    "comprimentoPeixe= [6.6,6.9,7.3,8.2,8.3,9.1,9.2,9.4,10.2]\n",
    "somaProduto=0\n",
    "pesoPotencia=0\n",
    "comprimentoPotencia=0"
   ]
  },
  {
   "cell_type": "code",
   "execution_count": 16,
   "metadata": {},
   "outputs": [
    {
     "name": "stdout",
     "output_type": "stream",
     "text": [
      "0.0440423236128\n"
     ]
    }
   ],
   "source": [
    "#Coeficiente de correlação de pearson\n",
    "for x,y in zip( pesoPeixe,comprimentoPeixe):\n",
    "    somaProduto+=x*y\n",
    "    pesoPotencia+= x**2\n",
    "    comprimentoPotencia+=y**2\n",
    "             \n",
    "    somaPeso=sum(pesoPeixe)\n",
    "    somaComprimento=sum(comprimentoPeixe)\n",
    "    coeficiente1=somaProduto-somaPeso*somaComprimento/9\n",
    "    calculox=(pesoPotencia-somaPeso**2)/9\n",
    "    calculoy=(comprimentoPotencia-somaComprimento**2)/9\n",
    "    \n",
    "    calculo=calculox*calculoy\n",
    "    \n",
    "                                                    \n",
    "if (calculo >= 0):\n",
    "      coeficiente= math.sqrt(calculo)      \n",
    "print(coeficiente1/coeficiente)\n",
    "\n",
    "                                            \n",
    "\n",
    "      \n",
    "                                              \n",
    "                                                    "
   ]
  },
  {
   "cell_type": "code",
   "execution_count": null,
   "metadata": {},
   "outputs": [],
   "source": [
    "#Correlação de Kendal\n",
    "\n",
    "\n"
   ]
  },
  {
   "cell_type": "code",
   "execution_count": null,
   "metadata": {},
   "outputs": [],
   "source": []
  }
 ],
 "metadata": {
  "kernelspec": {
   "display_name": "Python 3",
   "language": "python",
   "name": "python3"
  },
  "language_info": {
   "codemirror_mode": {
    "name": "ipython",
    "version": 2
   },
   "file_extension": ".py",
   "mimetype": "text/x-python",
   "name": "python",
   "nbconvert_exporter": "python",
   "pygments_lexer": "ipython2",
   "version": "2.7.15rc1"
  }
 },
 "nbformat": 4,
 "nbformat_minor": 2
}
