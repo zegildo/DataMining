{
 "cells": [
  {
   "cell_type": "markdown",
   "metadata": {},
   "source": [
    "# Investigação de dados"
   ]
  },
  {
   "cell_type": "markdown",
   "metadata": {},
   "source": [
    "## DataSet: _Não comparecimento as consultas médicas_\n",
    "\n",
    "Esta base de dados possui informações de 100.000 consultas médicas no Brasil e está focado na questão de buscar compreender se o paciente irá ou não comparecer a consulta. As características sobre os pacientes são descritas em cada linha.\n",
    "\n",
    "<li>**ScheduledDay:** informa o dia em que o paciente marcou sua consulta.\n",
    "<li>**Neighborhood:** indica a localização do hospital.\n",
    "<li>**Scholarship:** indica se o paciente está ou não envolvido com o programa Bolsa Família.\n",
    "Tenha cuidado ao interpretar a última coluna. **'No'** significa que o paciente compareceu a consulta previamente agendada. Por outro lado, **'Yes'** signifca que ele não compareceu.\n",
    "\n",
    "## Table of Contents\n",
    "\n",
    "<ul>\n",
    "<li><a href=\"#intro\">Introduction</a></li>\n",
    "<li><a href=\"#wrangling\">Data Wrangling</a></li>\n",
    "<li><a href=\"#eda\">Exploratory Data Analysis</a></li>\n",
    "<li><a href=\"#conclusions\">Conclusions</a></li>\n",
    "</ul>"
   ]
  },
  {
   "cell_type": "markdown",
   "metadata": {},
   "source": [
    "## Perguntas\n",
    "\n",
    "**1)** Quem mais falta as consultas homens ou mulheres?<br>\n",
    "**2)** Qual a proporção de pacientes que não comparecem às consultas?<br>\n",
    "**3)** Qual a distribuição da idade de pacientes que não comparecem às consultas?<br>\n",
    "**4)** Há alguma relação entre doença e não comparecimento às consultas?<br>\n",
    "**5)** Qual a cidade com maior número de não comparecimentos?<br>\n",
    "**6)** Qual é o mês, dia da semana e dia do mês com maior número de não comparecimentos?<br>\n",
    "**7)** Há alguma correlação entre a participação no programa social Bolsa Família e os comparecimentos?"
   ]
  },
  {
   "cell_type": "markdown",
   "metadata": {},
   "source": [
    "## Carregar os dados:\n"
   ]
  },
  {
   "cell_type": "code",
   "execution_count": 4,
   "metadata": {
    "scrolled": true
   },
   "outputs": [],
   "source": [
    "%matplotlib inline\n",
    "import matplotlib.pyplot as plt\n",
    "import pandas as pd\n",
    "import numpy as np\n",
    "import datetime\n",
    "df = pd.read_csv('noshowappointments-kagglev2-may-2016.csv');\n",
    "\n"
   ]
  },
  {
   "cell_type": "markdown",
   "metadata": {},
   "source": [
    "# **1)** Quem mais falta as consultas homens ou mulheres?"
   ]
  },
  {
   "cell_type": "code",
   "execution_count": 4,
   "metadata": {},
   "outputs": [
    {
     "data": {
      "text/plain": [
       "Gender  No-show\n",
       "F       No         57246\n",
       "        Yes        14594\n",
       "M       No         30962\n",
       "        Yes         7725\n",
       "dtype: int64"
      ]
     },
     "execution_count": 4,
     "metadata": {},
     "output_type": "execute_result"
    }
   ],
   "source": [
    "df.groupby([\"Gender\", \"No-show\"]).size()\n",
    "\n"
   ]
  },
  {
   "cell_type": "markdown",
   "metadata": {
    "collapsed": true
   },
   "source": [
    "Conclusão: Com um total de 14.594(mulheres) e 7725(homens) podemos afirmar que as mulheres faltam mais que os homens ás consultas médicas. \n",
    "\n",
    "\n"
   ]
  },
  {
   "cell_type": "markdown",
   "metadata": {},
   "source": [
    "# **2.** Qual a proporção de pacientes que não comparecem às consultas? \n"
   ]
  },
  {
   "cell_type": "code",
   "execution_count": 3,
   "metadata": {},
   "outputs": [
    {
     "data": {
      "text/plain": [
       "<matplotlib.axes._subplots.AxesSubplot at 0x7effe07d4610>"
      ]
     },
     "execution_count": 3,
     "metadata": {},
     "output_type": "execute_result"
    },
    {
     "data": {
      "image/png": "[encoded data removed]",
      "text/plain": [
       "<matplotlib.figure.Figure at 0x7f0008066810>"
      ]
     },
     "metadata": {
      "needs_background": "light"
     },
     "output_type": "display_data"
    }
   ],
   "source": [
    "df.groupby('No-show')['AppointmentID'].nunique().plot(kind='bar')\n",
    "\n"
   ]
  },
  {
   "cell_type": "markdown",
   "metadata": {},
   "source": [
    "# 3.Qual a distribuição da idade de pacientes que não comparecem às consultas?"
   ]
  },
  {
   "cell_type": "code",
   "execution_count": 9,
   "metadata": {},
   "outputs": [],
   "source": [
    "distribuicao = df[df['No-show'] == 'Yes']\n",
    "\n"
   ]
  },
  {
   "cell_type": "code",
   "execution_count": 10,
   "metadata": {},
   "outputs": [
    {
     "data": {
      "image/png": "[encoded data removed]",
      "text/plain": [
       "<matplotlib.figure.Figure at 0x7fb24546b910>"
      ]
     },
     "metadata": {
      "needs_background": "light"
     },
     "output_type": "display_data"
    }
   ],
   "source": [
    "distribuicao[['No-show','Age']].hist(bins=120,alpha=0.5,color='#FF005E')\n",
    "plt.savefig('nomeDaFigura.png')    \n"
   ]
  },
  {
   "cell_type": "markdown",
   "metadata": {},
   "source": [
    "Conclusão: Podemos perceber, que o maior numero de faltas concentram-se em bebês, em seus primeiros meses de vida."
   ]
  },
  {
   "cell_type": "markdown",
   "metadata": {},
   "source": [
    "# **4)** Há alguma relação entre doença e não comparecimento às consultas?"
   ]
  },
  {
   "cell_type": "code",
   "execution_count": 11,
   "metadata": {},
   "outputs": [],
   "source": [
    "hipertensos = df.loc[df['Hipertension'] == 1, ['No-show', 'Hipertension']]\n",
    "hipertensosCont = hipertensos.loc[hipertensos['No-show'] == 'Yes', ['Hipertension']].count()\n",
    "\n",
    "diabetes = df.loc[df['Diabetes'] == 1, ['No-show', 'Diabetes']]\n",
    "diabetesCont = diabetes.loc[diabetes['No-show'] == 'Yes', ['Diabetes']].count()\n",
    "alcoolismo = df.loc[df['Alcoholism'] == 1, ['No-show', 'Alcoholism']]\n",
    "alcoolismoCont= alcoolismo.loc[alcoolismo['No-show'] == 'Yes', ['Alcoholism']].count()\n"
   ]
  },
  {
   "cell_type": "code",
   "execution_count": 12,
   "metadata": {},
   "outputs": [
    {
     "data": {
      "image/png": "[encoded data removed]",
      "text/plain": [
       "<matplotlib.figure.Figure at 0x7fb245283ad0>"
      ]
     },
     "metadata": {},
     "output_type": "display_data"
    },
    {
     "data": {
      "text/plain": [
       "<matplotlib.figure.Figure at 0x7fb245146050>"
      ]
     },
     "metadata": {},
     "output_type": "display_data"
    }
   ],
   "source": [
    "labels = ['Hipertensos', 'Diabetes', 'Alcoolismo']\n",
    "sizes = [hipertensosCont,diabetesCont , alcoolismoCont]\n",
    "fig1,ax1= plt.subplots()\n",
    "ax1.pie(sizes,labels=labels, autopct='%1.1f%%', shadow=True, startangle=90)\n",
    "ax1.axis('equal') \n",
    "plt.show()\n",
    "plt.savefig('pizza.png')    \n",
    "\n",
    "\n",
    "   \n"
   ]
  },
  {
   "cell_type": "markdown",
   "metadata": {},
   "source": [
    "Conclusão:Podemos perceber, que aparentemente os hipertensos são mais propensos a faltar ás consultas"
   ]
  },
  {
   "cell_type": "markdown",
   "metadata": {},
   "source": [
    "# **5)** Qual a cidade com maior número de não comparecimentos?<br>\n"
   ]
  },
  {
   "cell_type": "code",
   "execution_count": 29,
   "metadata": {},
   "outputs": [
    {
     "data": {
      "text/plain": [
       "'JARDIM CAMBURI'"
      ]
     },
     "execution_count": 29,
     "metadata": {},
     "output_type": "execute_result"
    }
   ],
   "source": [
    "distribuicao['Neighbourhood'].unique()\n",
    "\n",
    "#distribuicao['Neighbourhood'].values_counts(normalize=True)\n",
    "cidade =pd.value_counts(distribuicao['Neighbourhood'].values.flatten())\n",
    "\n",
    "cidade.idxmax('Neighbourhood')"
   ]
  },
  {
   "cell_type": "markdown",
   "metadata": {},
   "source": [
    "Como podemos ver, o hospital com maior numero de não comparecimentos é o das proximidades do  JARDIM CAMBURI com 1465 não comparecimentos, o JARDIM CAMBURI, está localizado na cidade de Vitória-ES"
   ]
  },
  {
   "cell_type": "markdown",
   "metadata": {},
   "source": [
    "# **6)** Qual é o mês, dia da semana e dia do mês com maior número de não comparecimentos?"
   ]
  },
  {
   "cell_type": "code",
   "execution_count": 81,
   "metadata": {},
   "outputs": [
    {
     "name": "stderr",
     "output_type": "stream",
     "text": [
      "/home/vectro26/.local/lib/python2.7/site-packages/ipykernel_launcher.py:2: SettingWithCopyWarning: \n",
      "A value is trying to be set on a copy of a slice from a DataFrame.\n",
      "Try using .loc[row_indexer,col_indexer] = value instead\n",
      "\n",
      "See the caveats in the documentation: http://pandas.pydata.org/pandas-docs/stable/indexing.html#indexing-view-versus-copy\n",
      "  \n"
     ]
    }
   ],
   "source": [
    "\n",
    "distribuicao['AppointmentDay']=pd.to_datetime(distribuicao.AppointmentDay)\n",
    "\n",
    "\n",
    "\n"
   ]
  },
  {
   "cell_type": "markdown",
   "metadata": {},
   "source": [
    "Agora, agrupamos o numero de consultas por mês"
   ]
  },
  {
   "cell_type": "code",
   "execution_count": 125,
   "metadata": {},
   "outputs": [
    {
     "data": {
      "text/plain": [
       "AppointmentDay\n",
       "4.0      633\n",
       "5.0    16804\n",
       "6.0     4882\n",
       "dtype: int64"
      ]
     },
     "execution_count": 125,
     "metadata": {},
     "output_type": "execute_result"
    }
   ],
   "source": [
    "df.groupby(distribuicao['AppointmentDay'].dt.month).size()\n"
   ]
  },
  {
   "cell_type": "markdown",
   "metadata": {},
   "source": [
    "Como podemos perceber, o mês 5(MAIO) é o que dispoẽ de maior quantidade de tuplas agrupadas, \n",
    "ou seja, ele é o mês com maior numero de faltas. Em seguida, agrupamos os dias do mês 5 \n",
    "para podemos obter os dados de faltas por dia da semana"
   ]
  },
  {
   "cell_type": "code",
   "execution_count": 77,
   "metadata": {},
   "outputs": [
    {
     "data": {
      "text/plain": [
       "AppointmentDay\n",
       "0.0    4690\n",
       "1.0    5152\n",
       "2.0    5093\n",
       "3.0    3338\n",
       "4.0    4037\n",
       "5.0       9\n",
       "dtype: int64"
      ]
     },
     "execution_count": 77,
     "metadata": {},
     "output_type": "execute_result"
    }
   ],
   "source": [
    "df.groupby(distribuicao['AppointmentDay'].dt.dayofweek).size()\n",
    "\n"
   ]
  },
  {
   "cell_type": "markdown",
   "metadata": {},
   "source": [
    "Como podemos observar, o dia da semana  que ocorre maior numero de faltas, é a terça-feira\n",
    "com 5123 faltas"
   ]
  },
  {
   "cell_type": "code",
   "execution_count": 78,
   "metadata": {},
   "outputs": [
    {
     "data": {
      "text/plain": [
       "16    1049\n",
       "9     1019\n",
       "10     992\n",
       "4      973\n",
       "17     935\n",
       "13     905\n",
       "20     899\n",
       "19     892\n",
       "18     890\n",
       "30     888\n",
       "11     885\n",
       "2      861\n",
       "12     837\n",
       "3      831\n",
       "24     811\n",
       "5      807\n",
       "6      795\n",
       "31     767\n",
       "25     759\n",
       "14       9\n",
       "dtype: int64"
      ]
     },
     "execution_count": 78,
     "metadata": {},
     "output_type": "execute_result"
    }
   ],
   "source": [
    "pd.value_counts(dias.AppointmentDay.dt.day.values.flatten())\n"
   ]
  },
  {
   "cell_type": "markdown",
   "metadata": {},
   "source": [
    "Podemos observar,que no dia 16 é o dia que ocorre o maior numero de faltas, com 1049 faltas ocorridas no dia."
   ]
  },
  {
   "cell_type": "markdown",
   "metadata": {},
   "source": [
    "# **7)** Há alguma correlação entre a participação no programa social Bolsa Família e os comparecimentos?"
   ]
  },
  {
   "cell_type": "code",
   "execution_count": 144,
   "metadata": {},
   "outputs": [
    {
     "data": {
      "text/plain": [
       "Scholarship  No-show\n",
       "0            No         79925\n",
       "             Yes        19741\n",
       "1            No          8283\n",
       "             Yes         2578\n",
       "dtype: int64"
      ]
     },
     "execution_count": 144,
     "metadata": {},
     "output_type": "execute_result"
    }
   ],
   "source": [
    "df.groupby([\"Scholarship\", \"No-show\"]).size()\n",
    "\n"
   ]
  },
  {
   "cell_type": "code",
   "execution_count": 83,
   "metadata": {
    "scrolled": true
   },
   "outputs": [
    {
     "data": {
      "text/plain": [
       "<matplotlib.axes._subplots.AxesSubplot at 0x7effddd8e1d0>"
      ]
     },
     "execution_count": 83,
     "metadata": {},
     "output_type": "execute_result"
    },
    {
     "data": {
      "image/png": "[encoded data removed]",
      "text/plain": [
       "<matplotlib.figure.Figure at 0x7effdf922150>"
      ]
     },
     "metadata": {
      "needs_background": "light"
     },
     "output_type": "display_data"
    }
   ],
   "source": [
    "df.groupby([\"Scholarship\", \"No-show\"]).size().plot(kind='bar')\n"
   ]
  },
  {
   "cell_type": "markdown",
   "metadata": {},
   "source": [
    "Conclusão: Os participantes do Bolsa Famíla correspondem a 10861, os mesmos em sua grande  maioria, no total de 8283 não faltam as consultas, o que correspondem a 76% das consultas realizadas com os participantes do programa. Ao analisar os dados, podemos perceber que é menos proprício participantes do bolsa família faltar aos atendimentos médicos.\n"
   ]
  },
  {
   "cell_type": "markdown",
   "metadata": {},
   "source": [
    "# Conclusão geral "
   ]
  },
  {
   "cell_type": "markdown",
   "metadata": {},
   "source": [
    "Com base  no estudo realizado, podemos perceber que existe um Outlier na distribuição de idades dos pacientes, especificamente  nos primeiros de vida de um bebê, uma das hipóteses que pode ser levantadas é que existe essa ausência nas consultas, devido  o programa Estratégia Saúde Familiar(ESF), esse programa acompanha crianças e idosos, com isso não é necessário a ida até a unidade de saúde para realizar a consulta médica."
   ]
  }
 ],
 "metadata": {
  "kernelspec": {
   "display_name": "Python 3",
   "language": "python",
   "name": "python3"
  },
  "language_info": {
   "codemirror_mode": {
    "name": "ipython",
    "version": 2
   },
   "file_extension": ".py",
   "mimetype": "text/x-python",
   "name": "python",
   "nbconvert_exporter": "python",
   "pygments_lexer": "ipython2",
   "version": "2.7.15rc1"
  }
 },
 "nbformat": 4,
 "nbformat_minor": 1
}
