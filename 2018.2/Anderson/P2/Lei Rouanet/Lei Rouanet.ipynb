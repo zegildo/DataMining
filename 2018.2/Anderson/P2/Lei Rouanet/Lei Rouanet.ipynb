{
 "cells": [
  {
   "cell_type": "markdown",
   "metadata": {},
   "source": [
    "# Lei Rouanet"
   ]
  },
  {
   "cell_type": "markdown",
   "metadata": {},
   "source": [
    "Principal mecanismo de fomento à Cultura do Brasil, a [Lei Rouanet](http://dados.gov.br/dataset/incentivos-da-lei-rouanet), como é conhecida a Lei 8.313/91, instituiu o Programa Nacional de Apoio à Cultura (Pronac). O nome Rouanet remete a seu criador, o então secretário Nacional de Cultura, o diplomata Sérgio Paulo Rouanet. Para cumprir este objetivo, a lei estabelece as normativas de como o Governo Federal deve disponibilizar recursos para a realização de projetos artístico-culturais. A Lei foi concebida originalmente com três mecanismos: o Fundo Nacional da Cultura (FNC), o Incentivo Fiscal e o Fundo de Investimento Cultural e Artístico (Ficart). Este nunca foi implementado, enquanto o Incentivo Fiscal - também chamado de mecenato - prevaleceu e chega ser confundido com a própria Lei.\n",
    "\n",
    "Mais informações sobre a Lei Rouanet podem ser obtidos em seu portal: http://rouanet.cultura.gov.br/"
   ]
  },
  {
   "cell_type": "markdown",
   "metadata": {},
   "source": [
    " ## É-lhe pedido:"
   ]
  },
  {
   "cell_type": "markdown",
   "metadata": {},
   "source": [
    "* 0) Obtenha os dados da [Lei Rouanet](http://dados.gov.br/dataset/incentivos-da-lei-rouanet) e organize-os em um banco de dados relacional ou diretamente na sua linguaguem de programação.\n",
    "* 1) Apresente os tipos de todas as variáveis e seus índices de tendência central quando for possível.\n",
    "* 2) Analise a poluição dos dados. Há dados nulos, vazios, problemáticos? Quantos? Quais? Como resolver? (Aproveite e resolva)\n",
    "* 3) Apresente ao menos uma forma de medir a similaridade entre projetos aprovados e outra para projetos não aprovados.\n",
    "* 4) Qual o projeto recebeu o maior investimento?\n",
    "* 5) Qual empresa investiu mais na Lei Rouanet ao longo do tempo?\n",
    "* 6) Qual foi a empresa mais beneficiada ao longo do tempo?\n",
    "* 7) Há algum solicitante que sempre ganha?\n",
    "* 8) Consegue associar algum CNPJ a algum artista conhecido?\n",
    "* 9) Apresente suas conclusões e hipóteses para o futuro baseado nos fatos encontrados."
   ]
  },
  {
   "cell_type": "markdown",
   "metadata": {},
   "source": [
    "# 0) Obtenha os dados da Lei Rouanet e organize-os em um banco de dados relacional ou diretamente na sua linguaguem de programação."
   ]
  },
  {
   "cell_type": "markdown",
   "metadata": {},
   "source": [
    "# Carregar dados "
   ]
  },
  {
   "cell_type": "code",
   "execution_count": 2,
   "metadata": {},
   "outputs": [],
   "source": [
    "%matplotlib inline\n",
    "import matplotlib.pyplot as plt\n",
    "import pandas as pd\n",
    "import numpy as np\n",
    "proposta = pd.read_csv('salicapi-propostas-b7d218c49fac0a1020948bb1230aabfc.csv');\n",
    "incentivadores= pd.read_csv('salicapi-incentivadores-b7d218c49fac0a1020948bb1230aabfc.csv');\n",
    "projetos= pd.read_csv('salicapi-projetos-b7d218c49fac0a1020948bb1230aabfc.csv');\n",
    "proponentes= pd.read_csv('salicapi-proponentes-b7d218c49fac0a1020948bb1230aabfc.csv');\n",
    "segmentos= pd.read_csv('salicapi-segmentos-b7d218c49fac0a1020948bb1230aabfc.csv');\n",
    "areas=  pd.read_csv('salicapi-areas-b7d218c49fac0a1020948bb1230aabfc.csv');\n",
    "fornecedores= pd.read_csv('salicapi-fornecedores-b7d218c49fac0a1020948bb1230aabfc.csv')\n"
   ]
  },
  {
   "cell_type": "markdown",
   "metadata": {},
   "source": [
    "# 1) Apresente os tipos de todas as variáveis e seus índices de tendência central quando for possível."
   ]
  },
  {
   "cell_type": "markdown",
   "metadata": {},
   "source": [
    "# *Variaveis do dataframe  propostas "
   ]
  },
  {
   "cell_type": "code",
   "execution_count": 49,
   "metadata": {},
   "outputs": [
    {
     "data": {
      "text/plain": [
       "data_arquivamento         object\n",
       "acessibilidade            object\n",
       "impacto_ambiental         object\n",
       "nome                      object\n",
       "democratizacao            object\n",
       "justificativa             object\n",
       "mecanismo                 object\n",
       "resumo                    object\n",
       "sinopse                   object\n",
       "especificacao_tecnica     object\n",
       "data_inicio               object\n",
       "objetivos                 object\n",
       "ficha_tecnica             object\n",
       "etapa                     object\n",
       "data_aceite              float64\n",
       "id                         int64\n",
       "estrategia_execucao       object\n",
       "data_termino              object\n",
       "dtype: object"
      ]
     },
     "execution_count": 49,
     "metadata": {},
     "output_type": "execute_result"
    }
   ],
   "source": [
    "proposta.dtypes"
   ]
  },
  {
   "cell_type": "markdown",
   "metadata": {},
   "source": [
    "# Tipos de variaveis do dataframe Proposta "
   ]
  },
  {
   "cell_type": "markdown",
   "metadata": {},
   "source": [
    "# Qualitativas nominais"
   ]
  },
  {
   "cell_type": "markdown",
   "metadata": {},
   "source": [
    "acessibilidade,impacto_ambiental,nome,democratizacao,justificativa,mecanismo,resumo,sinopse,especificacao_tecnica,etapa,estrategia_execucao."
   ]
  },
  {
   "cell_type": "markdown",
   "metadata": {},
   "source": [
    "# Qualitativas ordinais "
   ]
  },
  {
   "cell_type": "markdown",
   "metadata": {},
   "source": [
    "data_arquivamento,data_aceite,data_termino"
   ]
  },
  {
   "cell_type": "markdown",
   "metadata": {},
   "source": [
    "# Quantitativas discretas"
   ]
  },
  {
   "cell_type": "markdown",
   "metadata": {},
   "source": [
    "id"
   ]
  },
  {
   "cell_type": "markdown",
   "metadata": {},
   "source": [
    "# Índice de Tendência central do dataframe Proposta "
   ]
  },
  {
   "cell_type": "code",
   "execution_count": 50,
   "metadata": {},
   "outputs": [
    {
     "data": {
      "text/html": [
       "<div>\n",
       "<style scoped>\n",
       "    .dataframe tbody tr th:only-of-type {\n",
       "        vertical-align: middle;\n",
       "    }\n",
       "\n",
       "    .dataframe tbody tr th {\n",
       "        vertical-align: top;\n",
       "    }\n",
       "\n",
       "    .dataframe thead th {\n",
       "        text-align: right;\n",
       "    }\n",
       "</style>\n",
       "<table border=\"1\" class=\"dataframe\">\n",
       "  <thead>\n",
       "    <tr style=\"text-align: right;\">\n",
       "      <th></th>\n",
       "      <th>data_aceite</th>\n",
       "      <th>id</th>\n",
       "    </tr>\n",
       "  </thead>\n",
       "  <tbody>\n",
       "    <tr>\n",
       "      <th>count</th>\n",
       "      <td>0.0</td>\n",
       "      <td>100.000000</td>\n",
       "    </tr>\n",
       "    <tr>\n",
       "      <th>mean</th>\n",
       "      <td>NaN</td>\n",
       "      <td>50.500000</td>\n",
       "    </tr>\n",
       "    <tr>\n",
       "      <th>std</th>\n",
       "      <td>NaN</td>\n",
       "      <td>29.011492</td>\n",
       "    </tr>\n",
       "    <tr>\n",
       "      <th>min</th>\n",
       "      <td>NaN</td>\n",
       "      <td>1.000000</td>\n",
       "    </tr>\n",
       "    <tr>\n",
       "      <th>25%</th>\n",
       "      <td>NaN</td>\n",
       "      <td>25.750000</td>\n",
       "    </tr>\n",
       "    <tr>\n",
       "      <th>50%</th>\n",
       "      <td>NaN</td>\n",
       "      <td>50.500000</td>\n",
       "    </tr>\n",
       "    <tr>\n",
       "      <th>75%</th>\n",
       "      <td>NaN</td>\n",
       "      <td>75.250000</td>\n",
       "    </tr>\n",
       "    <tr>\n",
       "      <th>max</th>\n",
       "      <td>NaN</td>\n",
       "      <td>100.000000</td>\n",
       "    </tr>\n",
       "  </tbody>\n",
       "</table>\n",
       "</div>"
      ],
      "text/plain": [
       "       data_aceite          id\n",
       "count          0.0  100.000000\n",
       "mean           NaN   50.500000\n",
       "std            NaN   29.011492\n",
       "min            NaN    1.000000\n",
       "25%            NaN   25.750000\n",
       "50%            NaN   50.500000\n",
       "75%            NaN   75.250000\n",
       "max            NaN  100.000000"
      ]
     },
     "execution_count": 50,
     "metadata": {},
     "output_type": "execute_result"
    }
   ],
   "source": [
    "proposta.describe()"
   ]
  },
  {
   "cell_type": "markdown",
   "metadata": {},
   "source": [
    "# *Variaveis do dataframe  Incentivadores"
   ]
  },
  {
   "cell_type": "code",
   "execution_count": 51,
   "metadata": {},
   "outputs": [
    {
     "data": {
      "text/plain": [
       "nome            object\n",
       "cgccpf          object\n",
       "total_doado    float64\n",
       "tipo_pessoa     object\n",
       "responsavel     object\n",
       "UF              object\n",
       "municipio       object\n",
       "dtype: object"
      ]
     },
     "execution_count": 51,
     "metadata": {},
     "output_type": "execute_result"
    }
   ],
   "source": [
    "incentivadores.dtypes"
   ]
  },
  {
   "cell_type": "markdown",
   "metadata": {},
   "source": [
    "# Tipos de variaveis do dataframe Incentivadores "
   ]
  },
  {
   "cell_type": "markdown",
   "metadata": {},
   "source": [
    "# Qualitativas nominais"
   ]
  },
  {
   "cell_type": "markdown",
   "metadata": {},
   "source": [
    "nome,cgccpf,UF,responsavel,municipio,tipo_pessoa"
   ]
  },
  {
   "cell_type": "markdown",
   "metadata": {},
   "source": [
    "# Quantitativas discretas"
   ]
  },
  {
   "cell_type": "markdown",
   "metadata": {},
   "source": [
    "total_doado"
   ]
  },
  {
   "cell_type": "markdown",
   "metadata": {},
   "source": [
    "# Índice de Tendência central do dataframe Incentivadores"
   ]
  },
  {
   "cell_type": "code",
   "execution_count": 52,
   "metadata": {},
   "outputs": [
    {
     "data": {
      "text/html": [
       "<div>\n",
       "<style scoped>\n",
       "    .dataframe tbody tr th:only-of-type {\n",
       "        vertical-align: middle;\n",
       "    }\n",
       "\n",
       "    .dataframe tbody tr th {\n",
       "        vertical-align: top;\n",
       "    }\n",
       "\n",
       "    .dataframe thead th {\n",
       "        text-align: right;\n",
       "    }\n",
       "</style>\n",
       "<table border=\"1\" class=\"dataframe\">\n",
       "  <thead>\n",
       "    <tr style=\"text-align: right;\">\n",
       "      <th></th>\n",
       "      <th>total_doado</th>\n",
       "    </tr>\n",
       "  </thead>\n",
       "  <tbody>\n",
       "    <tr>\n",
       "      <th>count</th>\n",
       "      <td>1.000000e+02</td>\n",
       "    </tr>\n",
       "    <tr>\n",
       "      <th>mean</th>\n",
       "      <td>8.406303e+06</td>\n",
       "    </tr>\n",
       "    <tr>\n",
       "      <th>std</th>\n",
       "      <td>5.715111e+07</td>\n",
       "    </tr>\n",
       "    <tr>\n",
       "      <th>min</th>\n",
       "      <td>1.200000e+01</td>\n",
       "    </tr>\n",
       "    <tr>\n",
       "      <th>25%</th>\n",
       "      <td>3.000000e+02</td>\n",
       "    </tr>\n",
       "    <tr>\n",
       "      <th>50%</th>\n",
       "      <td>1.500000e+03</td>\n",
       "    </tr>\n",
       "    <tr>\n",
       "      <th>75%</th>\n",
       "      <td>1.489875e+04</td>\n",
       "    </tr>\n",
       "    <tr>\n",
       "      <th>max</th>\n",
       "      <td>4.967045e+08</td>\n",
       "    </tr>\n",
       "  </tbody>\n",
       "</table>\n",
       "</div>"
      ],
      "text/plain": [
       "        total_doado\n",
       "count  1.000000e+02\n",
       "mean   8.406303e+06\n",
       "std    5.715111e+07\n",
       "min    1.200000e+01\n",
       "25%    3.000000e+02\n",
       "50%    1.500000e+03\n",
       "75%    1.489875e+04\n",
       "max    4.967045e+08"
      ]
     },
     "execution_count": 52,
     "metadata": {},
     "output_type": "execute_result"
    }
   ],
   "source": [
    "incentivadores.describe()"
   ]
  },
  {
   "cell_type": "markdown",
   "metadata": {},
   "source": [
    "# *Variaveis do dataframe  projetos "
   ]
  },
  {
   "cell_type": "code",
   "execution_count": 54,
   "metadata": {},
   "outputs": [
    {
     "data": {
      "text/plain": [
       "etapa                     object\n",
       "providencia               object\n",
       "area                      object\n",
       "enquadramento             object\n",
       "objetivos                 object\n",
       "ficha_tecnica             object\n",
       "situacao                  object\n",
       "outras_fontes            float64\n",
       "acessibilidade            object\n",
       "sinopse                   object\n",
       "nome                      object\n",
       "cgccpf                    object\n",
       "mecanismo                 object\n",
       "segmento                  object\n",
       "PRONAC                     int64\n",
       "estrategia_execucao       object\n",
       "valor_aprovado           float64\n",
       "justificativa             object\n",
       "resumo                    object\n",
       "valor_solicitado         float64\n",
       "especificacao_tecnica     object\n",
       "municipio                 object\n",
       "data_termino              object\n",
       "UF                        object\n",
       "impacto_ambiental         object\n",
       "democratizacao            object\n",
       "valor_projeto            float64\n",
       "proponente                object\n",
       "ano_projeto                int64\n",
       "data_inicio               object\n",
       "valor_captado            float64\n",
       "valor_proposta           float64\n",
       "dtype: object"
      ]
     },
     "execution_count": 54,
     "metadata": {},
     "output_type": "execute_result"
    }
   ],
   "source": [
    "projetos.dtypes"
   ]
  },
  {
   "cell_type": "markdown",
   "metadata": {},
   "source": [
    "# Tipos de variaveis do dataframe Projetos"
   ]
  },
  {
   "cell_type": "markdown",
   "metadata": {},
   "source": [
    "# Qualitativas nominais"
   ]
  },
  {
   "cell_type": "markdown",
   "metadata": {},
   "source": [
    "etapa,providencia,area,enquadramento,objetivos,ficha_tecnica,situacao,acessibilidade,sinopse,nome, cgccpf,mecanismo,segmento, estrategia_execucao, justificativa, resumo, especificacao_tecnica,municipio,UF, impacto_ambiental,democratizacao, proponente,"
   ]
  },
  {
   "cell_type": "markdown",
   "metadata": {},
   "source": [
    "# Qualitativas ordinais"
   ]
  },
  {
   "cell_type": "markdown",
   "metadata": {},
   "source": [
    "data_inicio"
   ]
  },
  {
   "cell_type": "markdown",
   "metadata": {},
   "source": [
    "# Quantitativas discreta"
   ]
  },
  {
   "cell_type": "markdown",
   "metadata": {},
   "source": [
    "outras_fontes,valor_aprovado,valor_solicitado,valor_projeto,valor_captado,valor_proposta"
   ]
  },
  {
   "cell_type": "markdown",
   "metadata": {},
   "source": [
    "# Índice de Tendência central do dataframe Projetos"
   ]
  },
  {
   "cell_type": "code",
   "execution_count": 55,
   "metadata": {},
   "outputs": [
    {
     "data": {
      "text/html": [
       "<div>\n",
       "<style scoped>\n",
       "    .dataframe tbody tr th:only-of-type {\n",
       "        vertical-align: middle;\n",
       "    }\n",
       "\n",
       "    .dataframe tbody tr th {\n",
       "        vertical-align: top;\n",
       "    }\n",
       "\n",
       "    .dataframe thead th {\n",
       "        text-align: right;\n",
       "    }\n",
       "</style>\n",
       "<table border=\"1\" class=\"dataframe\">\n",
       "  <thead>\n",
       "    <tr style=\"text-align: right;\">\n",
       "      <th></th>\n",
       "      <th>outras_fontes</th>\n",
       "      <th>PRONAC</th>\n",
       "      <th>valor_aprovado</th>\n",
       "      <th>valor_solicitado</th>\n",
       "      <th>valor_projeto</th>\n",
       "      <th>ano_projeto</th>\n",
       "      <th>valor_captado</th>\n",
       "      <th>valor_proposta</th>\n",
       "    </tr>\n",
       "  </thead>\n",
       "  <tbody>\n",
       "    <tr>\n",
       "      <th>count</th>\n",
       "      <td>100.000000</td>\n",
       "      <td>100.000000</td>\n",
       "      <td>1.000000e+02</td>\n",
       "      <td>1.000000e+02</td>\n",
       "      <td>1.000000e+02</td>\n",
       "      <td>100.0</td>\n",
       "      <td>100.0</td>\n",
       "      <td>1.000000e+02</td>\n",
       "    </tr>\n",
       "    <tr>\n",
       "      <th>mean</th>\n",
       "      <td>7608.282500</td>\n",
       "      <td>190392.470000</td>\n",
       "      <td>2.822494e+05</td>\n",
       "      <td>7.190437e+05</td>\n",
       "      <td>2.898576e+05</td>\n",
       "      <td>19.0</td>\n",
       "      <td>0.0</td>\n",
       "      <td>7.266520e+05</td>\n",
       "    </tr>\n",
       "    <tr>\n",
       "      <th>std</th>\n",
       "      <td>64354.510424</td>\n",
       "      <td>32.177367</td>\n",
       "      <td>5.194468e+05</td>\n",
       "      <td>6.796873e+05</td>\n",
       "      <td>5.194156e+05</td>\n",
       "      <td>0.0</td>\n",
       "      <td>0.0</td>\n",
       "      <td>6.808727e+05</td>\n",
       "    </tr>\n",
       "    <tr>\n",
       "      <th>min</th>\n",
       "      <td>0.000000</td>\n",
       "      <td>190340.000000</td>\n",
       "      <td>0.000000e+00</td>\n",
       "      <td>6.303420e+04</td>\n",
       "      <td>0.000000e+00</td>\n",
       "      <td>19.0</td>\n",
       "      <td>0.0</td>\n",
       "      <td>6.886258e+04</td>\n",
       "    </tr>\n",
       "    <tr>\n",
       "      <th>25%</th>\n",
       "      <td>0.000000</td>\n",
       "      <td>190364.750000</td>\n",
       "      <td>0.000000e+00</td>\n",
       "      <td>2.661335e+05</td>\n",
       "      <td>0.000000e+00</td>\n",
       "      <td>19.0</td>\n",
       "      <td>0.0</td>\n",
       "      <td>2.661335e+05</td>\n",
       "    </tr>\n",
       "    <tr>\n",
       "      <th>50%</th>\n",
       "      <td>0.000000</td>\n",
       "      <td>190389.500000</td>\n",
       "      <td>0.000000e+00</td>\n",
       "      <td>5.135056e+05</td>\n",
       "      <td>0.000000e+00</td>\n",
       "      <td>19.0</td>\n",
       "      <td>0.0</td>\n",
       "      <td>5.135056e+05</td>\n",
       "    </tr>\n",
       "    <tr>\n",
       "      <th>75%</th>\n",
       "      <td>0.000000</td>\n",
       "      <td>190418.250000</td>\n",
       "      <td>4.677919e+05</td>\n",
       "      <td>8.080790e+05</td>\n",
       "      <td>5.026589e+05</td>\n",
       "      <td>19.0</td>\n",
       "      <td>0.0</td>\n",
       "      <td>8.403600e+05</td>\n",
       "    </tr>\n",
       "    <tr>\n",
       "      <th>max</th>\n",
       "      <td>631788.250000</td>\n",
       "      <td>190448.000000</td>\n",
       "      <td>2.968138e+06</td>\n",
       "      <td>2.968138e+06</td>\n",
       "      <td>2.968138e+06</td>\n",
       "      <td>19.0</td>\n",
       "      <td>0.0</td>\n",
       "      <td>2.968138e+06</td>\n",
       "    </tr>\n",
       "  </tbody>\n",
       "</table>\n",
       "</div>"
      ],
      "text/plain": [
       "       outras_fontes         PRONAC  valor_aprovado  valor_solicitado  \\\n",
       "count     100.000000     100.000000    1.000000e+02      1.000000e+02   \n",
       "mean     7608.282500  190392.470000    2.822494e+05      7.190437e+05   \n",
       "std     64354.510424      32.177367    5.194468e+05      6.796873e+05   \n",
       "min         0.000000  190340.000000    0.000000e+00      6.303420e+04   \n",
       "25%         0.000000  190364.750000    0.000000e+00      2.661335e+05   \n",
       "50%         0.000000  190389.500000    0.000000e+00      5.135056e+05   \n",
       "75%         0.000000  190418.250000    4.677919e+05      8.080790e+05   \n",
       "max    631788.250000  190448.000000    2.968138e+06      2.968138e+06   \n",
       "\n",
       "       valor_projeto  ano_projeto  valor_captado  valor_proposta  \n",
       "count   1.000000e+02        100.0          100.0    1.000000e+02  \n",
       "mean    2.898576e+05         19.0            0.0    7.266520e+05  \n",
       "std     5.194156e+05          0.0            0.0    6.808727e+05  \n",
       "min     0.000000e+00         19.0            0.0    6.886258e+04  \n",
       "25%     0.000000e+00         19.0            0.0    2.661335e+05  \n",
       "50%     0.000000e+00         19.0            0.0    5.135056e+05  \n",
       "75%     5.026589e+05         19.0            0.0    8.403600e+05  \n",
       "max     2.968138e+06         19.0            0.0    2.968138e+06  "
      ]
     },
     "execution_count": 55,
     "metadata": {},
     "output_type": "execute_result"
    }
   ],
   "source": [
    "projetos.describe()"
   ]
  },
  {
   "cell_type": "markdown",
   "metadata": {},
   "source": [
    "# *Variaveis do dataframe  Proponentes "
   ]
  },
  {
   "cell_type": "code",
   "execution_count": 57,
   "metadata": {},
   "outputs": [
    {
     "data": {
      "text/plain": [
       "nome              object\n",
       "cgccpf            object\n",
       "tipo_pessoa       object\n",
       "responsavel       object\n",
       "UF                object\n",
       "total_captado    float64\n",
       "municipio         object\n",
       "dtype: object"
      ]
     },
     "execution_count": 57,
     "metadata": {},
     "output_type": "execute_result"
    }
   ],
   "source": [
    "proponentes.dtypes"
   ]
  },
  {
   "cell_type": "markdown",
   "metadata": {},
   "source": [
    "# Tipos de variaveis do dataframe Proponentes"
   ]
  },
  {
   "cell_type": "markdown",
   "metadata": {},
   "source": [
    "# Qualitativas nominais"
   ]
  },
  {
   "cell_type": "code",
   "execution_count": null,
   "metadata": {},
   "outputs": [],
   "source": [
    "nome,cgccpf,tipo_pessoa,responsavel,UF,municipio"
   ]
  },
  {
   "cell_type": "markdown",
   "metadata": {},
   "source": [
    "# Quantitativas discreta"
   ]
  },
  {
   "cell_type": "code",
   "execution_count": null,
   "metadata": {},
   "outputs": [],
   "source": [
    "total_captado"
   ]
  },
  {
   "cell_type": "markdown",
   "metadata": {},
   "source": [
    "# Índice de Tendência central do dataframe Proponentes"
   ]
  },
  {
   "cell_type": "code",
   "execution_count": 58,
   "metadata": {},
   "outputs": [
    {
     "data": {
      "text/html": [
       "<div>\n",
       "<style scoped>\n",
       "    .dataframe tbody tr th:only-of-type {\n",
       "        vertical-align: middle;\n",
       "    }\n",
       "\n",
       "    .dataframe tbody tr th {\n",
       "        vertical-align: top;\n",
       "    }\n",
       "\n",
       "    .dataframe thead th {\n",
       "        text-align: right;\n",
       "    }\n",
       "</style>\n",
       "<table border=\"1\" class=\"dataframe\">\n",
       "  <thead>\n",
       "    <tr style=\"text-align: right;\">\n",
       "      <th></th>\n",
       "      <th>total_captado</th>\n",
       "    </tr>\n",
       "  </thead>\n",
       "  <tbody>\n",
       "    <tr>\n",
       "      <th>count</th>\n",
       "      <td>1.000000e+02</td>\n",
       "    </tr>\n",
       "    <tr>\n",
       "      <th>mean</th>\n",
       "      <td>6.582370e+04</td>\n",
       "    </tr>\n",
       "    <tr>\n",
       "      <th>std</th>\n",
       "      <td>2.511816e+05</td>\n",
       "    </tr>\n",
       "    <tr>\n",
       "      <th>min</th>\n",
       "      <td>0.000000e+00</td>\n",
       "    </tr>\n",
       "    <tr>\n",
       "      <th>25%</th>\n",
       "      <td>0.000000e+00</td>\n",
       "    </tr>\n",
       "    <tr>\n",
       "      <th>50%</th>\n",
       "      <td>0.000000e+00</td>\n",
       "    </tr>\n",
       "    <tr>\n",
       "      <th>75%</th>\n",
       "      <td>0.000000e+00</td>\n",
       "    </tr>\n",
       "    <tr>\n",
       "      <th>max</th>\n",
       "      <td>1.519804e+06</td>\n",
       "    </tr>\n",
       "  </tbody>\n",
       "</table>\n",
       "</div>"
      ],
      "text/plain": [
       "       total_captado\n",
       "count   1.000000e+02\n",
       "mean    6.582370e+04\n",
       "std     2.511816e+05\n",
       "min     0.000000e+00\n",
       "25%     0.000000e+00\n",
       "50%     0.000000e+00\n",
       "75%     0.000000e+00\n",
       "max     1.519804e+06"
      ]
     },
     "execution_count": 58,
     "metadata": {},
     "output_type": "execute_result"
    }
   ],
   "source": [
    "proponentes.describe()"
   ]
  },
  {
   "cell_type": "markdown",
   "metadata": {},
   "source": [
    "# *Variaveis do dataframe  segmentos "
   ]
  },
  {
   "cell_type": "code",
   "execution_count": 61,
   "metadata": {},
   "outputs": [
    {
     "data": {
      "text/plain": [
       "codigo    object\n",
       "nome      object\n",
       "dtype: object"
      ]
     },
     "execution_count": 61,
     "metadata": {},
     "output_type": "execute_result"
    }
   ],
   "source": [
    "segmentos.dtypes"
   ]
  },
  {
   "cell_type": "markdown",
   "metadata": {},
   "source": [
    "# Qualitativas nominais"
   ]
  },
  {
   "cell_type": "code",
   "execution_count": null,
   "metadata": {},
   "outputs": [],
   "source": [
    "codigo,nome"
   ]
  },
  {
   "cell_type": "markdown",
   "metadata": {},
   "source": [
    "# *Variaveis do dataframe  segmentos "
   ]
  },
  {
   "cell_type": "code",
   "execution_count": 62,
   "metadata": {},
   "outputs": [
    {
     "data": {
      "text/plain": [
       "codigo     int64\n",
       "nome      object\n",
       "dtype: object"
      ]
     },
     "execution_count": 62,
     "metadata": {},
     "output_type": "execute_result"
    }
   ],
   "source": [
    "areas.dtypes"
   ]
  },
  {
   "cell_type": "markdown",
   "metadata": {},
   "source": [
    "##Qualitativas nominais"
   ]
  },
  {
   "cell_type": "code",
   "execution_count": null,
   "metadata": {},
   "outputs": [],
   "source": [
    "codigo,nome "
   ]
  },
  {
   "cell_type": "markdown",
   "metadata": {},
   "source": [
    "# *Variaveis do dataframe fornecedores "
   ]
  },
  {
   "cell_type": "code",
   "execution_count": 63,
   "metadata": {},
   "outputs": [
    {
     "data": {
      "text/plain": [
       "cgccpf    object\n",
       "email     object\n",
       "nome      object\n",
       "dtype: object"
      ]
     },
     "execution_count": 63,
     "metadata": {},
     "output_type": "execute_result"
    }
   ],
   "source": [
    "fornecedores.dtypes"
   ]
  },
  {
   "cell_type": "markdown",
   "metadata": {},
   "source": [
    "# Qualitativas nominais"
   ]
  },
  {
   "cell_type": "code",
   "execution_count": null,
   "metadata": {},
   "outputs": [],
   "source": [
    "cgccpf,email,nome"
   ]
  },
  {
   "cell_type": "markdown",
   "metadata": {},
   "source": [
    "# 2) Analise a poluição dos dados. Há dados nulos, vazios, problemáticos? Quantos? Quais? Como resolver? (Aproveite e resolva)"
   ]
  },
  {
   "cell_type": "markdown",
   "metadata": {},
   "source": [
    "valores Vazios/Nulos nos dataframes "
   ]
  },
  {
   "cell_type": "code",
   "execution_count": 48,
   "metadata": {},
   "outputs": [
    {
     "name": "stdout",
     "output_type": "stream",
     "text": [
      "('Valores vazios no dataframe proposta:', 653)\n",
      "('Valores vazios no dataframe incentivadores:', 44)\n",
      "('Valores vazios no dataframe projetos:', 172)\n",
      "('Valores vazios no dataframe proponentes:', 7)\n",
      "('Valores vazios no dataframe segmentos:', 0)\n",
      "('Valores vazios no dataframe areas:', 0)\n",
      "('Valores vazios no dataframe fornecedores:', 94)\n"
     ]
    }
   ],
   "source": [
    "print('Valores vazios no dataframe proposta:',proposta.isnull().sum().sum())\n",
    "print('Valores vazios no dataframe incentivadores:',incentivadores.isnull().sum().sum())\n",
    "print('Valores vazios no dataframe projetos:',projetos.isnull().sum().sum())\n",
    "print('Valores vazios no dataframe proponentes:',proponentes.isnull().sum().sum())\n",
    "print('Valores vazios no dataframe segmentos:',segmentos.isnull().sum().sum())\n",
    "print('Valores vazios no dataframe areas:',areas.isnull().sum().sum())\n",
    "print('Valores vazios no dataframe fornecedores:',fornecedores.isnull().sum().sum())\n",
    "dadosNulos=proposta.isnull().sum().sum()+incentivadores.isnull().sum().sum()+projetos.isnull().sum().sum()+proponentes.isnull().sum().sum()+segmentos.isnull().sum().sum()+areas.isnull().sum().sum()+fornecedores.isnull().sum().sum()"
   ]
  },
  {
   "cell_type": "markdown",
   "metadata": {},
   "source": [
    "# Quantidade de CGC/CPF inconsistente nos dataframe  Projetos,Fornecedores, Proponentes e Incentivadores"
   ]
  },
  {
   "cell_type": "code",
   "execution_count": 44,
   "metadata": {},
   "outputs": [
    {
     "name": "stdout",
     "output_type": "stream",
     "text": [
      "('Quantidade de CPF/CGC inconsistentes no dataframe Projetos', 0)\n",
      "('Quantidade de CPF/CGC inconsistentes no dataframe Fornecedores', 0)\n",
      "('Quantidade de CPF inconsistente no dataframe Proponentes', 0)\n",
      "('Quantidade de CPF inconsistente no dataframe Incentivadores', 0)\n"
     ]
    }
   ],
   "source": [
    "quantidadeProjetos=(projetos['cgccpf'].str.len()!=11) &(projetos['cgccpf'].str.len()>14).sum()\n",
    "quantidadeFornecedores=(fornecedores['cgccpf'].str.len()!=11) & (fornecedores['cgccpf'].str.len()!=14).sum()\n",
    "quantidadeProponentes=(proponentes['cgccpf'].str.len()!=11) & (fornecedores['cgccpf'].str.len()!=14).sum()\n",
    "quantidadeIncentivadores=(incentivadores['cgccpf'].str.len()!=11) &(incentivadores['cgccpf'].str.len()!=14).sum()\n",
    "print(\"Quantidade de CPF/CGC inconsistentes no dataframe Projetos\",quantidadeProjetos.sum())\n",
    "print(\"Quantidade de CPF/CGC inconsistentes no dataframe Fornecedores\",quantidadeProjetos.sum())\n",
    "print(\"Quantidade de CPF inconsistente no dataframe Proponentes\",quantidadeProponentes.sum())\n",
    "print(\"Quantidade de CPF inconsistente no dataframe Incentivadores\",quantidadeIncentivadores.sum())\n",
    "cgccppfInconsistentes=quantidadeProjetos.sum()+quantidadeProjetos.sum()+quantidadeProponentes.sum()+quantidadeIncentivadores.sum()"
   ]
  },
  {
   "cell_type": "markdown",
   "metadata": {},
   "source": [
    "# Quantidade de  dados referentes a UF(Unidades da Federação) incosistentes no dataframe "
   ]
  },
  {
   "cell_type": "code",
   "execution_count": 46,
   "metadata": {},
   "outputs": [
    {
     "name": "stdout",
     "output_type": "stream",
     "text": [
      "1\n"
     ]
    }
   ],
   "source": [
    "quantidadeInconsistentesUF=(projetos['UF'].str.len()!=2).sum()\n",
    "print(quantidadeInconsistentesUF.sum())"
   ]
  },
  {
   "cell_type": "markdown",
   "metadata": {},
   "source": [
    "# VISUALIZAÇÃO DE DADOS NULOS E INCONSISTENTES "
   ]
  },
  {
   "cell_type": "code",
   "execution_count": 47,
   "metadata": {},
   "outputs": [
    {
     "data": {
      "image/png": "[encoded data removed]",
      "text/plain": [
       "<matplotlib.figure.Figure at 0x7f2241302c50>"
      ]
     },
     "metadata": {},
     "output_type": "display_data"
    }
   ],
   "source": [
    "labels = ['DadosNulos', 'CPF e CGC Inconsistentes', 'UF inconseistentes']\n",
    "titulos = [dadosNulos,cgccppfInconsistentes,quantidadeInconsistentesUF.sum()]\n",
    "cores = ['green', 'white','lightblue']\n",
    "explode = (0.1, 0, 0)  \n",
    "total = (dadosNulos+cgccppfInconsistentes+quantidadeInconsistentesUF.sum()) \n",
    "\n",
    "plt.pie(titulos, explode=explode, labels=labels, colors=cores, autopct=lambda p: '{:.0f}'.format(p * total / 100), shadow=True, startangle=90)\n",
    "\n",
    "plt.axis('equal') \n",
    "plt.show()"
   ]
  },
  {
   "cell_type": "markdown",
   "metadata": {},
   "source": [
    "# Resolução de problemas:"
   ]
  },
  {
   "cell_type": "markdown",
   "metadata": {},
   "source": [
    "Dada a identificação de problemas relacionados a qualidade de dados, podemos perceber que  em grande maioria, os problemas encontram-se em variáveis de natureza qualitativa, como não é possivel mensurar esse tipo de váriável, a resolução de tais problemas não interviria diretamente na análise dos dados."
   ]
  },
  {
   "cell_type": "markdown",
   "metadata": {},
   "source": [
    "# 3) Apresente ao menos uma forma de medir a similaridade entre projetos aprovados e outra para projetos não aprovados."
   ]
  },
  {
   "cell_type": "markdown",
   "metadata": {},
   "source": [
    "Não tem como medir a similaridade entres os projetos,pois os dados fornecidos não são suficientes para a análise"
   ]
  },
  {
   "cell_type": "markdown",
   "metadata": {},
   "source": [
    "# 4) Qual o projeto recebeu o maior investimento?\n"
   ]
  },
  {
   "cell_type": "code",
   "execution_count": 16,
   "metadata": {},
   "outputs": [
    {
     "data": {
      "text/plain": [
       "0"
      ]
     },
     "execution_count": 16,
     "metadata": {},
     "output_type": "execute_result"
    }
   ],
   "source": [
    "projetos['valor_aprovado'].idxmax()\n"
   ]
  },
  {
   "cell_type": "markdown",
   "metadata": {},
   "source": [
    "Conclusão: Dada á consulta, podemos notar que ainda não houve nenhum investimento feito aos projetos. "
   ]
  },
  {
   "cell_type": "markdown",
   "metadata": {},
   "source": [
    "# 5) Qual empresa investiu mais na Lei Rouanet ao longo do tempo?"
   ]
  },
  {
   "cell_type": "code",
   "execution_count": 36,
   "metadata": {},
   "outputs": [
    {
     "data": {
      "text/plain": [
       "nome           Banco do Brasil S.A\n",
       "cgccpf              00000000000191\n",
       "total_doado            4.96705e+08\n",
       "tipo_pessoa               juridica\n",
       "responsavel                       \n",
       "UF                              DF\n",
       "municipio                 Brasília\n",
       "Name: 0, dtype: object"
      ]
     },
     "execution_count": 36,
     "metadata": {},
     "output_type": "execute_result"
    }
   ],
   "source": [
    "incentivadores.loc[incentivadores['total_doado'].idxmax()]\n"
   ]
  },
  {
   "cell_type": "markdown",
   "metadata": {},
   "source": [
    "Conclusão: O banco do brasil é a empresa que mais investe na Lei Rouanet "
   ]
  },
  {
   "cell_type": "markdown",
   "metadata": {},
   "source": [
    "# 6) Qual foi a empresa mais beneficiada ao longo do tempo?\n"
   ]
  },
  {
   "cell_type": "markdown",
   "metadata": {},
   "source": [
    "No resultado da questão 4, é mostrado que nenhum projeto recebeu valor máximo de investimento, logo, nenhuma empresa foi beneficiada."
   ]
  },
  {
   "cell_type": "markdown",
   "metadata": {},
   "source": [
    "# 7) Há algum solicitante que sempre ganha?"
   ]
  },
  {
   "cell_type": "markdown",
   "metadata": {},
   "source": []
  },
  {
   "cell_type": "markdown",
   "metadata": {},
   "source": [
    "# 8) Consegue associar algum CNPJ a algum artista conhecido?"
   ]
  },
  {
   "cell_type": "markdown",
   "metadata": {},
   "source": [
    "Devido a inconsistência e omissão de alguns digitos referentes ao CNPJ, não há como associar o CNPJ a algum artista."
   ]
  },
  {
   "cell_type": "markdown",
   "metadata": {},
   "source": [
    "# 9) Apresente suas conclusões e hipóteses para o futuro baseado nos fatos encontrados."
   ]
  },
  {
   "cell_type": "markdown",
   "metadata": {},
   "source": [
    "Os dados sobre Lei Rouanet disponibilizados pelo [Dados.gov](http://dados.gov.br) não são suficientes para uma análise profunda, em grande maioria são problemáticos,inconsistentes ou não dão informações relevantes para formular uma hipóteses sobre a pesquisa em questão.  "
   ]
  }
 ],
 "metadata": {
  "kernelspec": {
   "display_name": "Python 2",
   "language": "python",
   "name": "python2"
  },
  "language_info": {
   "codemirror_mode": {
    "name": "ipython",
    "version": 2
   },
   "file_extension": ".py",
   "mimetype": "text/x-python",
   "name": "python",
   "nbconvert_exporter": "python",
   "pygments_lexer": "ipython2",
   "version": "2.7.15rc1"
  }
 },
 "nbformat": 4,
 "nbformat_minor": 1
}
