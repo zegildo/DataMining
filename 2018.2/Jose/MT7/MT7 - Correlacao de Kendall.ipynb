{
 "cells": [
  {
   "cell_type": "markdown",
   "metadata": {},
   "source": [
    "# MT 7 - Coeficiente de Kendall\n",
    "\n",
    "2 Metódos capazes de calcular o Correlação de Kendall.\n",
    "Resolução do exercício, disponível em: http://leg.ufpr.br/~silvia/CE701/node79.html"
   ]
  },
  {
   "cell_type": "code",
   "execution_count": 5,
   "metadata": {},
   "outputs": [
    {
     "name": "stdout",
     "output_type": "stream",
     "text": [
      "Concordantes 35\n",
      "Discordantes 10\n",
      "Numero de possibilidades 45.0\n",
      "τ =  0.5555555555555556\n"
     ]
    }
   ],
   "source": [
    "X = [6.6, 6.9, 7.3, 7.5, 8.2, 8.3, 9.1, 9.2, 9.4, 10.2]\n",
    "Y = [86, 92, 71, 74, 185, 85, 201, 283, 255, 222]\n",
    "\n",
    "n = 0\n",
    "c = 0\n",
    "d = 0\n",
    "\n",
    "def compare(x,y):\n",
    "    global c\n",
    "    global d\n",
    "    if x[0]>x[1]:\n",
    "        if y[0]>y[1]:\n",
    "            c += 1\n",
    "        else:\n",
    "            d += 1\n",
    "            \n",
    "if len(X) != len(Y):\n",
    "    print(\"É necessário quantidade de elementos iguais nos vetores\")\n",
    "else:\n",
    "    for i in range(0, len(X)):\n",
    "        for j in range(0, len(X)-1):\n",
    "            n += 1/2\n",
    "            x = [X[i], X[j]]\n",
    "            y = [Y[i], Y[j]]\n",
    "            compare(x,y)\n",
    "           \n",
    "print ('Concordantes', c)\n",
    "print ('Discordantes', d)\n",
    "print ('Numero de possibilidades', n)\n",
    "print('τ = ',(c-d)/n)"
   ]
  },
  {
   "cell_type": "code",
   "execution_count": 4,
   "metadata": {},
   "outputs": [
    {
     "name": "stdout",
     "output_type": "stream",
     "text": [
      "r:  0.5555555555555555\n",
      "p-value:  0.025347318677468277\n"
     ]
    },
    {
     "data": {
      "image/png": "[encoded data removed]",
      "text/plain": [
       "<Figure size 432x288 with 1 Axes>"
      ]
     },
     "metadata": {
      "needs_background": "light"
     },
     "output_type": "display_data"
    }
   ],
   "source": [
    "from scipy import stats\n",
    "import matplotlib.pyplot as plt\n",
    "import pandas as pd\n",
    "\n",
    "data_cp = {'Otolith_lenght': [6.6, 6.9, 7.3, 7.5, 8.2, 8.3, 9.1, 9.2, 9.4, 10.2], \n",
    "        'Fish_mass':    [86, 92, 71, 74, 185, 85, 201, 283, 255, 222]}\n",
    "\n",
    "r, p= stats.kendalltau(data_cp['Otolith_lenght'], data_cp['Fish_mass'])\n",
    "df = pd.DataFrame(data_cp)\n",
    "\n",
    "df.plot.scatter(\"Otolith_lenght\", \"Fish_mass\")\n",
    "plt.xlabel('Comprimentto do Otolith (mm)');\n",
    "plt.ylabel('Massa do Peixe (g)');\n",
    "print('r: ', r)\n",
    "print('p-value: ', p)"
   ]
  },
  {
   "cell_type": "markdown",
   "metadata": {},
   "source": [
    "# Conclusão"
   ]
  },
  {
   "cell_type": "markdown",
   "metadata": {},
   "source": [
    "Na análise partindo da correlação de Kendall onde r= 0.55, o coeficiente de correlação apesar de ser positivo, não indica forte relação entre a massa do peixe e o comprimento do Otolith. O valor de p é uma probabilidade que mede a evidência contra a hipótese nula. Os valores de p inferiores fornecem evidência mais forte contra a hipótese nula. O nível de significância de 0,02 indica que o risco de concluir que as classificações estão associadas quando, na verdade, elas não estão é de 2%. "
   ]
  }
 ],
 "metadata": {
  "kernelspec": {
   "display_name": "Python 3",
   "language": "python",
   "name": "python3"
  },
  "language_info": {
   "codemirror_mode": {
    "name": "ipython",
    "version": 3
   },
   "file_extension": ".py",
   "mimetype": "text/x-python",
   "name": "python",
   "nbconvert_exporter": "python",
   "pygments_lexer": "ipython3",
   "version": "3.7.0"
  }
 },
 "nbformat": 4,
 "nbformat_minor": 2
}
