{
 "cells": [
  {
   "cell_type": "markdown",
   "metadata": {},
   "source": [
    "# Quality Analysis Count"
   ]
  },
  {
   "cell_type": "markdown",
   "metadata": {},
   "source": [
    "Problemas relacionados a qualidade dos dados das tabelas: https://docs.google.com/spreadsheets/d/1vxBY48pdp-oj2DB2EBDBkH-wMUeff7ZcIk0HNgthhgI/edit#gid=0\n",
    "\n",
    "Obs: tabelas foram unidas para a análise."
   ]
  },
  {
   "cell_type": "code",
   "execution_count": 10,
   "metadata": {},
   "outputs": [],
   "source": [
    "import numpy as np\n",
    "import pandas as pd\n",
    "\n",
    "df_bbc = pd.read_csv('BBC-Results.csv');"
   ]
  },
  {
   "cell_type": "code",
   "execution_count": 11,
   "metadata": {
    "scrolled": true
   },
   "outputs": [
    {
     "name": "stdout",
     "output_type": "stream",
     "text": [
      "Valores vazios na tabela BBC Results:  1346\n"
     ]
    }
   ],
   "source": [
    "print('Valores vazios na tabela BBC Results: ', df_bbc.isnull().sum().sum())\n"
   ]
  },
  {
   "cell_type": "code",
   "execution_count": 12,
   "metadata": {},
   "outputs": [
    {
     "name": "stdout",
     "output_type": "stream",
     "text": [
      "Valores vazios na coluna \"How many hours did you sleep last night?\":  281\n",
      "Valores encontrados fora do intervalo entre 0 e 24 (horas do dia) na coluna \"How many hours did you sleep last night?\" \":  0\n"
     ]
    }
   ],
   "source": [
    "df_howMay = df_bbc['How many hours did you sleep last night?']\n",
    "print('Valores vazios na coluna \"How many hours did you sleep last night?\": ', df_howMay.isnull().sum())\n",
    "\n",
    "df_howMay = df_howMay[df_howMay > 24].count() + df_howMay[df_howMay < 0].count()\n",
    "print('Valores encontrados fora do intervalo entre 0 e 24 (horas do dia) na coluna \"How many hours did you sleep last night?\" \": ', df_howMay)"
   ]
  },
  {
   "cell_type": "code",
   "execution_count": 13,
   "metadata": {},
   "outputs": [
    {
     "name": "stdout",
     "output_type": "stream",
     "text": [
      "Valores vazios na coluna \"Recognition Score\":  378\n",
      "Valores encontrados fora do intervalo entre 0 e 100 (nota) na coluna \"Recognition Score\":  283\n"
     ]
    }
   ],
   "source": [
    "df_rs = df_bbc['Recognition_Score']\n",
    "print('Valores vazios na coluna \"Recognition Score\": ', df_rs.isnull().sum())\n",
    "\n",
    "df_rs.dropna()\n",
    "df_rs_int = df_rs[df_rs.astype(str).str.isdigit()].astype(int)\n",
    "df_rs_int = df_rs_int[df_rs_int > 100].count() + df_rs_int[df_rs_int < 0].count()\n",
    "print('Valores encontrados fora do intervalo entre 0 e 100 (nota) na coluna \"Recognition Score\": ', df_rs_int )"
   ]
  },
  {
   "cell_type": "code",
   "execution_count": 14,
   "metadata": {},
   "outputs": [
    {
     "name": "stdout",
     "output_type": "stream",
     "text": [
      "Valores vazios na coluna \"Temporal Memory Score\":  408\n",
      "Valores encontrados fora do intervalo entre 0 e 100 na coluna \"Temporal Memory Score\":  4\n"
     ]
    }
   ],
   "source": [
    "df_tms = df_bbc['Temporal Memory Score']\n",
    "print('Valores vazios na coluna \"Temporal Memory Score\": ', df_tms.isnull().sum())\n",
    "\n",
    "df_tms.dropna()\n",
    "df_tms = df_tms[df_tms.astype(str).str.isdigit()].astype(int)\n",
    "df_tms = df_tms[df_tms > 100].count() + df_tms[df_tms < 0].count()\n",
    "print('Valores encontrados fora do intervalo entre 0 e 100 na coluna \"Temporal Memory Score\": ', df_tms)"
   ]
  },
  {
   "cell_type": "code",
   "execution_count": 15,
   "metadata": {
    "scrolled": true
   },
   "outputs": [
    {
     "name": "stdout",
     "output_type": "stream",
     "text": [
      "Valores reais no intervalo entre 0 e 1 na coluna \"How many hours did you sleep last night?\":  6\n"
     ]
    }
   ],
   "source": [
    "df_howMay_frac = df_bbc['How many hours did you sleep last night?'].dropna()\n",
    "df_howMay_frac = df_howMay_frac[(df_howMay_frac > 0) & (df_howMay_frac < 1)].count()\n",
    "\n",
    "print('Valores reais no intervalo entre 0 e 1 na coluna \"How many hours did you sleep last night?\": ', df_howMay_frac)\n",
    "\n"
   ]
  },
  {
   "cell_type": "code",
   "execution_count": 22,
   "metadata": {},
   "outputs": [
    {
     "name": "stdout",
     "output_type": "stream",
     "text": [
      "Valores considerado texto na coluna \"Recognition Score\":  222\n"
     ]
    }
   ],
   "source": [
    "df_rs_text = df_bbc['Recognition_Score']\n",
    "print('Valores considerado texto na coluna \"Recognition Score\": ', len(df_rs_text[df_rs_text.str.contains('%|e', na=False)]))\n"
   ]
  },
  {
   "cell_type": "code",
   "execution_count": 21,
   "metadata": {},
   "outputs": [
    {
     "name": "stdout",
     "output_type": "stream",
     "text": [
      "Valores considerado texto na coluna \"Temporal Memory Score\":  220\n"
     ]
    }
   ],
   "source": [
    "df_tms_text = df_bbc['Temporal Memory Score']\n",
    "print('Valores considerado texto na coluna \"Temporal Memory Score\": ', len(df_tms_text[df_tms_text.str.contains('%|e', na=False)]))"
   ]
  }
 ],
 "metadata": {
  "kernelspec": {
   "display_name": "Python 3",
   "language": "python",
   "name": "python3"
  },
  "language_info": {
   "codemirror_mode": {
    "name": "ipython",
    "version": 3
   },
   "file_extension": ".py",
   "mimetype": "text/x-python",
   "name": "python",
   "nbconvert_exporter": "python",
   "pygments_lexer": "ipython3",
   "version": "3.7.0"
  }
 },
 "nbformat": 4,
 "nbformat_minor": 2
}
