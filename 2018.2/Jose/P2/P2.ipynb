{
 "cells": [
  {
   "cell_type": "markdown",
   "metadata": {},
   "source": [
    "# P2 - Análise sobre Lei Rouanet"
   ]
  },
  {
   "cell_type": "markdown",
   "metadata": {},
   "source": [
    "Para a visualização das análises obtidas, acesse o link: https://docs.google.com/spreadsheets/d/1VAVFRUKQIPfphAcD_cpJinSsZkw6ciZoZzRqszyG-0I/edit?usp=sharing",
    "\n",
    "A análise foi feita no banco de dados encontrado na pasta em que esse arquivo se encontra. Também disponível em: http://dados.gov.br/dataset/incentivos-da-lei-rouanet"
   ]
  }
 ],
 "metadata": {
  "kernelspec": {
   "display_name": "Python 3",
   "language": "python",
   "name": "python3"
  },
  "language_info": {
   "codemirror_mode": {
    "name": "ipython",
    "version": 3
   },
   "file_extension": ".py",
   "mimetype": "text/x-python",
   "name": "python",
   "nbconvert_exporter": "python",
   "pygments_lexer": "ipython3",
   "version": "3.7.0"
  }
 },
 "nbformat": 4,
 "nbformat_minor": 2
}
