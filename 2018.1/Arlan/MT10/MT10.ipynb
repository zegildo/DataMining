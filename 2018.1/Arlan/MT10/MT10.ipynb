{
 "cells": [
  {
   "cell_type": "code",
   "execution_count": 23,
   "metadata": {},
   "outputs": [
    {
     "name": "stderr",
     "output_type": "stream",
     "text": [
      "C:\\Users\\Arlan\\Anaconda3\\lib\\site-packages\\pymysql\\cursors.py:329: Warning: (1265, \"Data truncated for column 'localizacaoIN' at row 1\")\n",
      "  self._do_get_result()\n"
     ]
    }
   ],
   "source": [
    "#coding: utf-8\n",
    "from lxml import html \n",
    "from lxml import etree \n",
    "import pymysql.cursors\n",
    "\n",
    "def insereParticipante(nome,foto,localizacao):\n",
    "    # Connect to the database\n",
    "    connection = pymysql.connect(host='localhost',\n",
    "                                 user='root',\n",
    "                                 password='',\n",
    "                                 db='mt10',\n",
    "                                 charset='utf8mb4',\n",
    "                                 cursorclass=pymysql.cursors.DictCursor)\n",
    "\n",
    "    try:\n",
    "        with connection.cursor() as cursor:\n",
    "            cursor.callproc('insertParticipante',(nome,foto,localizacao))\n",
    "\n",
    "        connection.commit()\n",
    "    finally:\n",
    "        connection.close()\n",
    "\n",
    "\n",
    "if __name__ == \"__main__\":\n",
    "    \n",
    "    arquivo = open('/Users/Arlan/Desktop/DataMining/2018.1/Arlan/MT10/mulheres_palestrantes.htm', encoding='UTF-8').read()\n",
    "    pagina = etree.HTML(arquivo)\n",
    "    \n",
    "    nomes = pagina.xpath('//article[@class=\"card\"]/h3/text()')\n",
    "    fotos = pagina.xpath('//article[@class=\"card\"]/img/@src')\n",
    "    localizacoes = pagina.xpath('//article[@class=\"card\"]/div/p[@class=\"location\"]/text()')\n",
    "\n",
    "    participantes = []\n",
    "    \n",
    "    for nome,foto,localizacao in zip(nomes,fotos,localizacoes):\n",
    "        insereParticipante(nome,foto,localizacao)\n",
    "        #participante = {'nome':nome, 'foto':foto, 'localizacao':localizacao}\n",
    "        #participantes.append(participante)\n",
    "    #for participante in participantes:\n",
    "        #print(participante)\n",
    "\n",
    "\n",
    "    '''\n",
    "    cards = pagina.xpath('//article[@class=\"card\"]/ul')\n",
    "    for card in cards: print [[tema.text for tema in card.getchildren()]]\n",
    "    temas_de_interesse = pagina.xpath('//article[@class=\"card\"]/ul/li/text()')\n",
    "    '''"
   ]
  },
  {
   "cell_type": "code",
   "execution_count": null,
   "metadata": {},
   "outputs": [],
   "source": []
  }
 ],
 "metadata": {
  "kernelspec": {
   "display_name": "Python 3",
   "language": "python",
   "name": "python3"
  },
  "language_info": {
   "codemirror_mode": {
    "name": "ipython",
    "version": 3
   },
   "file_extension": ".py",
   "mimetype": "text/x-python",
   "name": "python",
   "nbconvert_exporter": "python",
   "pygments_lexer": "ipython3",
   "version": "3.6.5"
  }
 },
 "nbformat": 4,
 "nbformat_minor": 2
}
