{
 "cells": [
  {
   "cell_type": "markdown",
   "metadata": {},
   "source": [
    "Modifique o código de crawler apresentado para coletar as notícias do globo.com (https://github.com/zegildo/DataMining/blob/master/2018.1/crawler_globo_com.py) e estruture um arquivo .csv que contenha os seguintes atributos: título, link da notícia respectivamente.\n",
    "\n",
    "Submeta seu código para o github da turma."
   ]
  },
  {
   "cell_type": "code",
   "execution_count": 48,
   "metadata": {},
   "outputs": [
    {
     "name": "stdout",
     "output_type": "stream",
     "text": [
      "WARNING: File overwritten!\n"
     ]
    }
   ],
   "source": [
    "import requests\n",
    "from lxml import html\n",
    "import pandas as pd\n",
    "import glob #checar se o nome do arquivo já existe\n",
    "from collections import namedtuple #para 'quebrar' o objeto em colunas\n",
    "\n",
    "Manchete = namedtuple('Manchete', ['noticia', 'link',])\n",
    "\n",
    "def padroniza_titulo(titulo):\n",
    "    return titulo.encode('latin-1').decode('unicode_escape')\n",
    "\n",
    "def get_lista_noticias():\n",
    "    URL = 'http://www.globo.com/'\n",
    "    response = requests.get(URL)  \n",
    "    body = html.fromstring(response.text)\n",
    "    noticias = body.xpath('//a[contains(@class,\"hui-highlight__link\")]')\n",
    "    return noticias\n",
    "\n",
    "def lista_titulos_links(noticias):\n",
    "    lista_titulos_links = []\n",
    "    \n",
    "    for noticia in noticias:\n",
    "        if 'title' in noticia.attrib:\n",
    "            titulo = padroniza_titulo(noticia.attrib['title'])\n",
    "            link = noticia.attrib['href']\n",
    "            lista_titulos_links.append(Manchete(titulo, link))\n",
    "            \n",
    "    return lista_titulos_links\n",
    "\n",
    "noticias = get_lista_noticias()\n",
    "lista_titulos_links = lista_titulos_links(noticias)\n",
    "csv_file = pd.DataFrame(lista_titulos_links)\n",
    "\n",
    "#salve seu csv aqui\n",
    "\n",
    "# Give the filename you wish to save the file to\n",
    "filename = 'noticias e links.csv'\n",
    "\n",
    "# Use this function to search for any files which match your filename\n",
    "files_present = glob.glob(filename)\n",
    "\n",
    "# if no matching files, write to csv, if there are matching files, print statement\n",
    "if not files_present:\n",
    "    csv_file.to_csv(filename)\n",
    "    print('done.')\n",
    "else:\n",
    "    csv_file.to_csv(filename)\n",
    "    print ('WARNING: File overwritten!' )\n",
    "    \n"
   ]
  },
  {
   "cell_type": "code",
   "execution_count": null,
   "metadata": {},
   "outputs": [],
   "source": []
  },
  {
   "cell_type": "code",
   "execution_count": null,
   "metadata": {},
   "outputs": [],
   "source": []
  }
 ],
 "metadata": {
  "kernelspec": {
   "display_name": "Python 3",
   "language": "python",
   "name": "python3"
  },
  "language_info": {
   "codemirror_mode": {
    "name": "ipython",
    "version": 3
   },
   "file_extension": ".py",
   "mimetype": "text/x-python",
   "name": "python",
   "nbconvert_exporter": "python",
   "pygments_lexer": "ipython3",
   "version": "3.6.5"
  }
 },
 "nbformat": 4,
 "nbformat_minor": 2
}
