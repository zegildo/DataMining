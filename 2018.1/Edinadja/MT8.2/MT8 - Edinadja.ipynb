{
 "cells": [
  {
   "cell_type": "code",
   "execution_count": 3,
   "metadata": {},
   "outputs": [],
   "source": [
    "import requests\n",
    "from lxml import html\n",
    "import pandas as pd\n",
    "import csv\n",
    "\n",
    "def padroniza_titulo(titulo):\n",
    "    return titulo.encode('latin-1').decode('utf-8')\n",
    "\n",
    "def get_lista_noticias():\n",
    "    URL = 'http://www.globo.com/'\n",
    "    response = requests.get(URL)  \n",
    "    body = html.fromstring(response.text)\n",
    "    noticias = body.xpath('//a[contains(@class,\"hui-highlight__link\")]')\n",
    "    return noticias\n",
    "\n",
    "def lista_titulos_links(noticias):\n",
    "    lista_titulos_links = []\n",
    "    for noticia in noticias:\n",
    "        if 'title' in noticia.attrib:\n",
    "            titulo = padroniza_titulo(noticia.attrib['title'])\n",
    "            link = noticia.attrib['href']\n",
    "            titulos_links = (titulo, link)\n",
    "            lista_titulos_links.append(titulos_links)\n",
    "    return lista_titulos_links\n",
    "\n",
    "noticias = get_lista_noticias()\n",
    "lista_titulos_links = lista_titulos_links(noticias)\n",
    "#Criando csv_file\n",
    "with open ('tb_noticias.csv', 'w', newline = '') as tb_noticias:\n",
    "    escrever = csv.writer(tb_noticias)\n",
    "    for titulos_links in lista_titulos_links:\n",
    "        escrever.writerow(titulos_links)\n",
    "csv_file = (open('tb_noticias.csv', 'r').read())\n",
    "#print (csv_file)"
   ]
  },
  {
   "cell_type": "code",
   "execution_count": null,
   "metadata": {},
   "outputs": [],
   "source": []
  }
 ],
 "metadata": {
  "kernelspec": {
   "display_name": "Python 3",
   "language": "python",
   "name": "python3"
  },
  "language_info": {
   "codemirror_mode": {
    "name": "ipython",
    "version": 3
   },
   "file_extension": ".py",
   "mimetype": "text/x-python",
   "name": "python",
   "nbconvert_exporter": "python",
   "pygments_lexer": "ipython3",
   "version": "3.6.5"
  }
 },
 "nbformat": 4,
 "nbformat_minor": 2
}
