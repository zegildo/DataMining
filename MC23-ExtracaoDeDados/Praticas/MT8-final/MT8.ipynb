{
 "cells": [
  {
   "cell_type": "markdown",
   "metadata": {},
   "source": [
    "# Demonstração da utilização do Jupyter"
   ]
  },
  {
   "cell_type": "markdown",
   "metadata": {},
   "source": [
    "Mostrando a funcionalidade de execução de código:"
   ]
  },
  {
   "cell_type": "code",
   "execution_count": 1,
   "metadata": {
    "collapsed": false
   },
   "outputs": [
    {
     "data": {
      "text/plain": [
       "9"
      ]
     },
     "execution_count": 1,
     "metadata": {},
     "output_type": "execute_result"
    }
   ],
   "source": [
    "3**2"
   ]
  },
  {
   "cell_type": "markdown",
   "metadata": {},
   "source": [
    "# MT8"
   ]
  },
  {
   "cell_type": "markdown",
   "metadata": {},
   "source": [
    "Modifique o código de crawler apresentado para coletar as notícias do globo.com [link](https://github.com/zegildo/DataMining/blob/master/2018.1/crawler_globo_com.py) e estruture um arquivo *.csv* que contenha os seguintes atributos: título, link da notícia respectivamente. Submeta seu código para o github da turma."
   ]
  },
  {
   "cell_type": "markdown",
   "metadata": {},
   "source": [
    "### Constrói lista de notícias por título e link"
   ]
  },
  {
   "cell_type": "code",
   "execution_count": 11,
   "metadata": {
    "collapsed": false
   },
   "outputs": [
    {
     "name": "stdout",
     "output_type": "stream",
     "text": [
      "[{'titulo': \"'CNJ decide investigar indica\\xc3\\xa7\\xc3\\xa3o de Moro a ministro da Justi\\xc3\\xa7a'\", 'link': \"'https://g1.globo.com/politica/noticia/2018/11/09/corregedoria-do-cnj-decide-apurar-indicacao-de-moro-como-ministro.ghtml'\"}, {'titulo': \"'CNJ vai ouvir Moro sobre guerra de decis\\xc3\\xb5es em rela\\xc3\\xa7\\xc3\\xa3o a Lula'\", 'link': \"'https://g1.globo.com/politica/noticia/2018/11/09/cnj-ouve-em-6-de-dezembro-moro-e-3-desembargadores-sobre-guerra-de-decisoes-em-relacao-a-lula.ghtml'\"}, {'titulo': \"'Bolsonaro diz que Moro 'vai pescar com rede de arrast\\xc3\\xa3o''\", 'link': \"'https://oglobo.globo.com/brasil/moro-pescava-com-varinha-agora-vai-pescar-com-rede-de-arrastao-diz-bolsonaro-23224780'\"}, {'titulo': \"'Bolsonaro critica Enem e quer ver a prova antes (Reprodu\\xc3\\xa7\\xc3\\xa3o)'\", 'link': \"'https://g1.globo.com/politica/noticia/2018/11/09/bolsonaro-critica-questao-do-enem-2018-e-diz-que-em-2019-vai-tomar-conhecimento-da-prova-antes.ghtml'\"}, {'titulo': \"'Reforma de s\\xc3\\xadtio saiu de propina do PT, diz ex-OAS (Reprodu\\xc3\\xa7\\xc3\\xa3o)'\", 'link': \"'https://g1.globo.com/pr/parana/noticia/2018/11/09/ex-executivos-da-oas-prestam-depoimento-no-processo-do-sitio-de-atibaia-atribuido-a-lula.ghtml'\"}, {'titulo': \"'Trump destrata outra rep\\xc3\\xb3rter: 'Pergunta idiota' (AFP)'\", 'link': \"'https://oglobo.globo.com/mundo/trump-destrata-reporter-se-recusa-responder-pergunta-estupida-23224431'\"}, {'titulo': \"'MP apura elo de assessor da PGR e Rocha Loures (Hon\\xc3\\xb3rio Jacometto/TV Anhanguera)'\", 'link': \"'https://g1.globo.com/politica/noticia/2018/11/09/conselho-do-mp-vai-apurar-conversa-de-rocha-loures-com-braco-direito-de-raquel-dodge.ghtml'\"}, {'titulo': \"'Prefeito de BH: V\\xc3\\xa2ndalos devem ser espancados'\", 'link': \"'https://g1.globo.com/mg/minas-gerais/noticia/2018/11/09/prefeito-de-belo-horizonte-defende-espancamento-em-caso-de-vandalismo.ghtml'\"}, {'titulo': \"'Pol\\xc3\\xadcia: suspeito matou jogador e trocou de roupa (Reprodu\\xc3\\xa7\\xc3\\xa3o)'\", 'link': \"'https://g1.globo.com/pr/parana/noticia/2018/11/09/caso-daniel-delegado-diz-que-edison-brittes-trocou-de-roupas-apos-matar-jogador-daniel.ghtml'\"}, {'titulo': \"'Jonathas irrita Tim\\xc3\\xa3o e pode deixar o clube (Daniel Augusto Jr/Ag.Corinthians)'\", 'link': \"'https://globoesporte.globo.com/futebol/times/corinthians/noticia/fora-do-majestoso-jonathas-irrita-corinthians-e-pode-ter-emprestimo-abreviado.ghtml'\"}, {'titulo': \"'Penhora de ta\\xc3\\xa7a \\xc3\\xa9 suspensa'\", 'link': \"'https://globoesporte.globo.com/futebol/times/corinthians/noticia/justica-determina-suspensao-da-penhora-a-taca-do-mundial-de-2012-do-corinthians.ghtml'\"}, {'titulo': \"'CBF divulga detalhes das 3 \\xc3\\xbaltimas rodadas do Brasileir\\xc3\\xa3o'\", 'link': \"'https://globoesporte.globo.com/futebol/brasileirao-serie-a/noticia/cbf-detalha-as-tres-ultimas-rodadas-do-campeonato-brasileiro-veja-horarios-dos-jogos.ghtml'\"}, {'titulo': \"'Vitinho custou R$ 54 mi, diz balan\\xc3\\xa7o do Fla (THIAGO RIBEIRO/AGIF/ESTAD\\xc3\\x83O CONTE\\xc3\\x9aDO)'\", 'link': \"'https://globoesporte.globo.com/futebol/times/flamengo/noticia/com-18-de-imposto-custo-total-de-vitinho-sai-a-r-54-milhoes-aponta-balanco-do-flamengo.ghtml'\"}, {'titulo': \"'Fla adia multa de Diego Alves'\", 'link': \"'https://globoesporte.globo.com/futebol/times/flamengo/noticia/diego-alves-recebe-salario-cheio-e-flamengo-descontara-multa-no-pagamento-de-novembro.ghtml'\"}, {'titulo': \"'Relembre as brigas de Dorival'\", 'link': \"'https://globoesporte.globo.com/futebol/times/flamengo/noticia/neymar-e-alguns-outros-lista-relembra-desavencas-de-dorival-junior-antes-de-diego-alves.ghtml'\"}, {'titulo': \"'Confira todos os desfechos de 'Sol' (TV Globo)'\", 'link': \"'https://gshow.globo.com/novelas/segundo-sol/noticia/confira-todos-os-desfechos-de-segundo-sol.ghtml'\"}, {'titulo': \"'Roberval vai para a Europa'\", 'link': \"'https://gshow.globo.com/novelas/segundo-sol/vem-por-ai/noticia/ultimo-capitulo-roberval-vai-para-a-europa-e-cacau-toma-decisao.ghtml'\"}, {'titulo': \"'Manu emociona Luzia e Karen na formatura'\", 'link': \"'https://gshow.globo.com/novelas/segundo-sol/vem-por-ai/noticia/ultimo-capitulo-manu-faz-homenagem-emocionante-durante-a-sua-formatura.ghtml'\"}, {'titulo': \"''Espelho': Cris chama Alain de Gustavo (Reprodu\\xc3\\xa7\\xc3\\xa3o)'\", 'link': \"'https://gshow.globo.com/novelas/espelho-da-vida/vem-por-ai/noticia/cris-chama-alain-de-gustavo.ghtml'\"}, {'titulo': \"''O Tempo': Em\\xc3\\xadlio envia vestido de noiva para Marocas (TV Globo)'\", 'link': \"'https://gshow.globo.com/novelas/o-tempo-nao-para/vem-por-ai/noticia/marocas-recebe-vestido-de-noiva-enviado-por-emilio.ghtml'\"}, {'titulo': \"'Fazendeiro filma sucuri de 10m no interior do Acre; v\\xc3\\xaddeo (Arquivo pessoal)'\", 'link': \"'https://g1.globo.com/ac/acre/noticia/2018/11/09/sucuri-com-cerca-de-10-metros-e-flagrada-proximo-a-igarape-no-interior-do-acre-veja-video.ghtml'\"}, {'titulo': \"'Garotas de 11 e 12 no RJ podem ter sido mortas por traficantes (Reprodu\\xc3\\xa7\\xc3\\xa3o | Redes Sociais)'\", 'link': \"'https://extra.globo.com/casos-de-policia/policia-investiga-se-amigas-de-11-12-anos-foram-mortas-por-traficantes-de-drogas-23223693.html'\"}, {'titulo': \"'Boeing 757 faz pouso for\\xc3\\xa7ado na Guiana ap\\xc3\\xb3s pane hidr\\xc3\\xa1ulica (divulga\\xc3\\xa7\\xc3\\xa3o)'\", 'link': \"'https://g1.globo.com/mundo/noticia/2018/11/09/boeing-faz-pouso-de-emergencia-guiana.ghtml'\"}, {'titulo': \"'Instituto suspende alunos que colocaram bananas em mochila de estudante negra'\", 'link': \"'https://g1.globo.com/sp/itapetininga-regiao/noticia/2018/11/09/instituto-federal-suspende-alunos-por-colocarem-bananas-em-mochila-de-estudante-negra.ghtml'\"}, {'titulo': \"'Popula\\xc3\\xa7\\xc3\\xa3o aplaude suspeitos baleados em tiroteio no RJ (rjtv)'\", 'link': \"'https://g1.globo.com/rj/rio-de-janeiro/noticia/2018/11/09/video-mostra-traficante-procurado-pela-policia-ha-15-anos-circulando-de-carro-pela-ilha-do-governador.ghtml'\"}, {'titulo': \"'Receita Federal leiloa iPhone e MacBook a pre\\xc3\\xa7o muito baixo (Carolina Ochsendorf/TechTudo)'\", 'link': \"'https://www.techtudo.com.br/noticias/2018/11/leilao-da-receita-federal-tem-iphone-7-macbook-e-caixa-de-som-jbl.ghtml'\"}, {'titulo': \"'Estudantes que perderam 1\\xc2\\xba dia do Enem por falta de luz dever\\xc3\\xa3o fazer prova de domingo'\", 'link': \"'https://g1.globo.com/educacao/enem/2018/noticia/2018/11/09/estudantes-que-perderam-prova-de-humanas-do-enem-2018-por-falta-de-luz-devem-fazer-exame-deste-domingo-diz-inep.ghtml'\"}, {'titulo': \"'Ximbinha detona Joelma: 'Expulsou a m\\xc3\\xa3e e a irm\\xc3\\xa3 de casa' (divulga\\xc3\\xa7\\xc3\\xa3o)'\", 'link': \"'https://extra.globo.com/famosos/em-video-ximbinha-detona-joelma-expulsou-mae-a-irma-de-casa-chamando-de-ladras-23224733.html'\"}, {'titulo': \"''Ningu\\xc3\\xa9m acreditaria', diz jovem que fez foto de carro na piscina (Reprodu\\xc3\\xa7\\xc3\\xa3o)'\", 'link': \"'https://g1.globo.com/sp/bauru-marilia/noticia/2018/11/09/jovem-explica-selfie-com-carro-que-caiu-em-piscina-durante-churrasco-se-nao-registrasse-ninguem-acreditaria.ghtml'\"}, {'titulo': \"'mais not\\xc3\\xadcias'\", 'link': \"'https://g1.globo.com/'\"}, {'titulo': \"'Tite fala sobre Arthur, Paquet\\xc3\\xa1, Vin\\xc3\\xadcius Jr. e futuro da Sele\\xc3\\xa7\\xc3\\xa3o (Infografia)'\", 'link': \"'http://interativos.globoesporte.globo.com/futebol/selecao-brasileira/especial/entrevista-tite-selecao-brasileira-copa-do-mundo-copa-america-brasil'\"}, {'titulo': \"''Bando de idiota': Ney faz cr\\xc3\\xadtica ap\\xc3\\xb3s not\\xc3\\xadcia de b\\xc3\\xb4nus por aplauso (Reprodu\\xc3\\xa7\\xc3\\xa3o / Instagram)'\", 'link': \"'https://globoesporte.globo.com/futebol/futebol-internacional/futebol-frances/noticia/neymar-se-irrita-com-imprensa-apos-noticia-de-bonus-no-psg-bando-de-idiota.ghtml'\"}, {'titulo': \"'TEMPO REAL: Goi\\xc3\\xa1s busca o acesso contra o Coxa em Coritiba (Albari Rosa/Gazeta do Povo)'\", 'link': \"'https://globoesporte.globo.com/pr/futebol/brasileirao-serie-b/jogo/09-11-2018/coritiba-goias.ghtml'\"}, {'titulo': \"'No S\\xc3\\xa3o Paulo, Aguirre deixa d\\xc3\\xbavida sobre Everton, mas celebra: 'Saudades' (Marcelo Hazan)'\", 'link': \"'https://globoesporte.globo.com/futebol/times/sao-paulo/noticia/aguirre-deixa-duvida-sobre-escalacao-do-sao-paulo-mas-celebra-volta-de-everton.ghtml'\"}, {'titulo': \"'Final \\xc3\\xa9pica da Liberta: veja cantos de torcida do Boca Jrs. e do River (Infoesporte)'\", 'link': \"'https://globoesporte.globo.com/blogs/brasil-mundial-fc/post/2018/11/09/nos-embalos-da-libertadores-os-cantos-que-vao-embalar-river-plate-e-boca-juniors-na-decisao.ghtml'\"}, {'titulo': \"'Judeus torcedores do Boca v\\xc3\\xa3o ver a final na Espanha; entenda (Arquivo Pessoal)'\", 'link': \"'https://globoesporte.globo.com/blogs/brasil-mundial-fc/post/2018/11/09/judeus-torcedores-do-boca-vao-assistir-a-final-na-espanha-para-nao-desrespeitar-o-shabat.ghtml'\"}, {'titulo': \"'Sixers defendem invencibilidade de 6 jogos em casa contra Hornets; siga rodada da NBA (Lars Baron/Getty Images)'\", 'link': \"'https://sportv.globo.com/site/nba/ao-vivo/nba-20182019.ghtml'\"}, {'titulo': \"'Vila supera goleada, vence o Figueira e sonha com a S\\xc3\\xa9rie A (Reprodu\\xc3\\xa7\\xc3\\xa3o / SporTV)'\", 'link': \"'https://globoesporte.globo.com/go/futebol/brasileirao-serie-b/jogo/09-11-2018/vila-nova-figueirense.ghtml'\"}, {'titulo': \"'Clique e vote: Pr\\xc3\\xaamio eSports Brasil anuncia atletas indicados (Reprodu\\xc3\\xa7\\xc3\\xa3o)'\", 'link': \"'https://sportv.globo.com/site/e-sportv/noticia/premio-esports-brasil-anuncia-atletas-indicados-e-abre-votacoes.ghtml'\"}, {'titulo': \"'mais esportes'\", 'link': \"'https://globoesporte.globo.com/'\"}, {'titulo': \"'Gracy dan\\xc3\\xa7a funk de fio-dental de fita isolante e posta; v\\xc3\\xaddeo (Instagram/Reprodu\\xc3\\xa7\\xc3\\xa3o)'\", 'link': \"'https://revistaglamour.globo.com/Celebridades/noticia/2018/11/gracyanne-barbosa-faz-bronzeamento-e-danca-funk.html'\"}, {'titulo': \"'Sheila Mello puxa fita isolante... mas s\\xc3\\xb3 um pouquinho; amplie (Reprodu\\xc3\\xa7\\xc3\\xa3o/Instagram)'\", 'link': \"'https://revistaquem.globo.com/QUEM-News/noticia/2018/11/sheila-mello-brinca-com-marquinha-de-bronzeado-em-video.html'\"}, {'titulo': \"'Mariana Rios posa de topless e encanta os seguidores; amplie (Reprodu\\xc3\\xa7\\xc3\\xa3o/Instagram)'\", 'link': \"'https://revistaquem.globo.com/QUEM-News/noticia/2018/11/mariana-rios-posa-de-topless.html'\"}, {'titulo': \"'Luiza Tom\\xc3\\xa9 festeja boa forma aos 57 e fala de cantadas: 'Sou uma coroa enxuta' (Arquivo pessoal)'\", 'link': \"'https://gshow.globo.com/Famosos/noticia/luiza-tome-brinca-sobre-boa-forma-aos-57-anos-sou-uma-coroa-honesta.ghtml'\"}, {'titulo': \"'Curtindo a Inglaterra, Geisy posta foto de lingerie azul; fotos (Reprodu\\xc3\\xa7\\xc3\\xa3o/Instagram)'\", 'link': \"'https://revistaquem.globo.com/QUEM-News/noticia/2018/11/geisy-arruda-posa-sensual-de-lingerie.html'\"}, {'titulo': \"'Adriana Sant'Anna faz pose inusitada em foto a pedido da m\\xc3\\xa3e (Instagram/Reprodu\\xc3\\xa7\\xc3\\xa3o)'\", 'link': \"'https://revistaglamour.globo.com/Celebridades/noticia/2018/11/adriana-santanna-inova-em-foto-com-arvore-e-brinca-minhas-poses-estavam-muito-comuns.html'\"}, {'titulo': \"'Marina Ruy Barbosa conta como cuida da pele e dos cabelos tonalizados (Reprodu\\xc3\\xa7\\xc3\\xa3o/Instagram)'\", 'link': \"'https://revistaquem.globo.com/QUEM-News/noticia/2018/11/marina-ruy-barbosa-volta-novelas-e-conta-seus-segredinhos-de-beleza.html'\"}, {'titulo': \"'Lindsay posa decotada com look quase igual ao de Marina Ruy (Reprodu\\xc3\\xa7\\xc3\\xa3o/Instagram)'\", 'link': \"'https://revistaquem.globo.com/QUEM-News/noticia/2018/11/lindsay-lohan-posa-decotada-com-look-de-r-71-mil.html'\"}, {'titulo': \"'Ex-BBB Munik recebe cr\\xc3\\xadticas por andar em elefante: 'Explora\\xc3\\xa7\\xc3\\xa3o' (Instagram/Reprodu\\xc3\\xa7\\xc3\\xa3o)'\", 'link': \"'https://revistaglamour.globo.com/Celebridades/noticia/2018/11/munik-nunes-anda-de-elefante-na-africa-e-e-criticada-voce-so-esta-estimulando-exploracao-animal.html'\"}, {'titulo': \"'mais variedades'\", 'link': \"'https://gshow.globo.com/'\"}, {'titulo': \"'WhatsApp vai apagar suas conversas antigas; entenda (Anna Kellen Bull/TechTudo)'\", 'link': \"'https://www.techtudo.com.br/noticias/2018/11/whatsapp-vai-apagar-conversas-antigas-do-android-tire-suas-duvidas.ghtml'\"}, {'titulo': \"'Dicas no Instagram ajudam a ganhar mais seguidores (Luana Marfim/TechTudo)'\", 'link': \"'https://www.techtudo.com.br/listas/2018/11/como-ganhar-seguidores-no-instagram-9-dicas-para-ficar-popular-na-rede.ghtml'\"}, {'titulo': \"'Fortress 2 e CS:GO est\\xc3\\xa3o entre games mais jogados (Divulga\\xc3\\xa7\\xc3\\xa3o)'\", 'link': \"'https://www.techtudo.com.br/listas/2018/11/steam-veja-os-jogos-competitivos-mais-jogados-do-mundo-todo-esports.ghtml'\"}, {'titulo': \"'Samsung tem smart barato com recursos 'premium' (Bruno de Biase/TechTudo)'\", 'link': \"'https://www.techtudo.com.br/noticias/2018/11/saiba-se-vale-a-pena-comprar-o-galaxy-j7-pro-conheca-preco-e-ficha-tecnica.ghtml'\"}, {'titulo': \"'Tem Ferrari de R$ 3,7 milh\\xc3\\xb5es, homenagem a Senna... (G1)'\", 'link': \"'https://g1.globo.com/carros/salao-do-automovel-de-sao-paulo/2018/noticia/2018/11/09/video-g1-passeia-pelo-salao-do-automovel-e-mostra-ferrari-de-r-37-milhoes-e-mais-destaques.ghtml'\"}, {'titulo': \"'Veja a VW Tarok (a rival da Fiat Toro), Hilux GR-S e mais (Reprodu\\xc3\\xa7\\xc3\\xa3o)'\", 'link': \"'https://revistaautoesporte.globo.com/Videos/noticia/2018/11/video-vw-tarok-futura-rival-da-fiat-toro-toyota-hilux-gr-s-e-outras-picapes-do-salao-de-sp.html'\"}, {'titulo': \"'Veja o HB20 de R$ 200 mil, Polo Beats e Yaris W-Way (Reprodu\\xc3\\xa7\\xc3\\xa3o)'\", 'link': \"'https://revistaautoesporte.globo.com/Videos/noticia/2018/11/video-polo-beats-um-hb20-de-r-200-mil-e-outras-versoes-que-estao-no-salao-de-sp.html'\"}, {'titulo': \"'Fa\\xc3\\xa7a em casa um bolinho de carne crocante e macio (Mariane Rossi/G1)'\", 'link': \"'https://g1.globo.com/sp/santos-regiao/culinaria-013/noticia/2018/11/09/crocante-e-macio-bolinho-de-carne-e-espetacular-para-quem-gosta-de-comida-de-boteco-aprenda.ghtml'\"}, {'titulo': \"'Cavaquinha faz bonito \\xc3\\xa0 mesa com risoto de lim\\xc3\\xa3o (Reprodu\\xc3\\xa7\\xc3\\xa3o/GNT)'\", 'link': \"'http://gnt.globo.com/receitas/receitas/cavaquinha-com-risoto-de-limao.htm'\"}, {'titulo': \"'Bolo, milk-shake e mais: veja 12 receitas com pistache (Divulga\\xc3\\xa7\\xc3\\xa3o)'\", 'link': \"'https://revistacasaejardim.globo.com/Casa-e-Comida/Receitas/noticia/2018/11/especial-12-receitas-com-pistache.html'\"}, {'titulo': \"'Cau\\xc3\\xa3 inicia filmagens de longa sobre Dom Pedro I (Fabio Braga)'\", 'link': \"'https://gshow.globo.com/Famosos/noticia/o-filme-pedro-comeca-a-ser-rodado.ghtml'\"}, {'titulo': \"'Vencedora de R$ 100 mil lamenta ter parado: 'Vacilei' (TV Globo)'\", 'link': \"'https://gshow.globo.com/programas/caldeirao-do-huck/noticia/vencedora-de-r-100-mil-lamenta-ter-parado-vacilei-e-ja-pedi-perdao-aos-meus-antepassados.ghtml'\"}, {'titulo': \"'Gabi fica at\\xc3\\xb4nita ao saber que foi inocentada (Reprodu\\xc3\\xa7\\xc3\\xa3o/TV Globo)'\", 'link': \"'https://gshow.globo.com/novelas/malhacao/2018/vem-por-ai/noticia/gabriela-ganha-resposta-sobre-denuncia-e-tem-reacao-surpreendente.ghtml'\"}, {'titulo': \"'Semifinal do 'Fecha a Conta Boteco' tem desafio duplo\\n (TV Globo)'\", 'link': \"'https://gshow.globo.com/programas/mais-voce/Fecha-a-Conta/boteco/noticia/semifinal-do-fecha-a-conta-boteco-tem-desafio-duplo.ghtml'\"}]\n"
     ]
    }
   ],
   "source": [
    "import requests\n",
    "from lxml import html\n",
    "import pandas as pd\n",
    "\n",
    "\n",
    "def padroniza_titulo(titulo):\n",
    "    '''\n",
    "    '''\n",
    "    return titulo.encode('latin-1').decode('string_escape')\n",
    "\n",
    "def get_noticias():\n",
    "    '''\n",
    "    '''\n",
    "    URL = 'http://www.globo.com/'\n",
    "    response = requests.get(URL) \n",
    "    body = html.fromstring(response.text)\n",
    "    contains_2018_2012 = '//a[contains(@class,\"hui-highlight__link\")]'\n",
    "    contains_2012_2008 =\n",
    "    noticias = body.xpath(contains_2018_2012 and contains_2012_2008)\n",
    "    return noticias\n",
    "\n",
    "def get_lista_titulos_links(noticias):\n",
    "    '''\n",
    "    '''\n",
    "    lista_titulos_links = []\n",
    "    for noticia in noticias:\n",
    "        if 'title' in noticia.attrib:\n",
    "            titulo = padroniza_titulo(noticia.attrib['title'])\n",
    "            link = noticia.attrib['href']\n",
    "            lista_titulos_links.append({'titulo':\"'\"+titulo+\"'\",'link':\"'\"+link+\"'\"})\n",
    "    return lista_titulos_links\n",
    "\n",
    "noticias = get_noticias()\n",
    "lista_titulos_links = get_lista_titulos_links(noticias)\n",
    "print lista_titulos_links"
   ]
  },
  {
   "cell_type": "markdown",
   "metadata": {},
   "source": [
    "### Criando o arquivo *.csv* "
   ]
  },
  {
   "cell_type": "code",
   "execution_count": null,
   "metadata": {
    "collapsed": true
   },
   "outputs": [],
   "source": []
  },
  {
   "cell_type": "code",
   "execution_count": 36,
   "metadata": {
    "collapsed": false
   },
   "outputs": [
    {
     "name": "stdout",
     "output_type": "stream",
     "text": [
      "Done!\n"
     ]
    }
   ],
   "source": [
    "csv_file = pd.DataFrame(lista_titulos_links, columns=['titulo', 'link'])\n",
    "csv_file.to_csv('globo_news.csv', sep=',', encoding='utf-8', index=False)\n",
    "print \"Done!\""
   ]
  },
  {
   "cell_type": "markdown",
   "metadata": {},
   "source": [
    "## Perguntas interessantes sobre este trabalho:"
   ]
  },
  {
   "cell_type": "markdown",
   "metadata": {},
   "source": [
    "* E se eu ficar sem conexão com a Internet?\n",
    "* E como maximizar meus crawlers ?\n",
    "* E se mudarem a estrutura da página ?"
   ]
  }
 ],
 "metadata": {
  "kernelspec": {
   "display_name": "Python 2",
   "language": "python",
   "name": "python2"
  },
  "language_info": {
   "codemirror_mode": {
    "name": "ipython",
    "version": 2
   },
   "file_extension": ".py",
   "mimetype": "text/x-python",
   "name": "python",
   "nbconvert_exporter": "python",
   "pygments_lexer": "ipython2",
   "version": "2.7.10"
  }
 },
 "nbformat": 4,
 "nbformat_minor": 0
}
