{
 "cells": [
  {
   "cell_type": "markdown",
   "metadata": {},
   "source": [
    "# MT8"
   ]
  },
  {
   "cell_type": "markdown",
   "metadata": {},
   "source": [
    "Modifique o código de crawler apresentado para coletar as notícias do globo.com [link](https://github.com/zegildo/DataMining/blob/master/2018.1/crawler_globo_com.py) e estruture um arquivo *.csv* que contenha os seguintes atributos: título, link da notícia respectivamente. Submeta seu código para o github da turma."
   ]
  },
  {
   "cell_type": "markdown",
   "metadata": {},
   "source": [
    "### Constrói lista de notícias por título e link"
   ]
  },
  {
   "cell_type": "code",
   "execution_count": 35,
   "metadata": {
    "collapsed": false
   },
   "outputs": [],
   "source": [
    "import requests\n",
    "from lxml import html\n",
    "import pandas as pd\n",
    "\n",
    "def padroniza_titulo(titulo):\n",
    "    '''\n",
    "    '''\n",
    "    return titulo.encode('latin-1').decode('string_escape')\n",
    "\n",
    "def get_noticias():\n",
    "    '''\n",
    "    '''\n",
    "    URL = 'http://www.globo.com/'\n",
    "    response = requests.get(URL)  \n",
    "    body = html.fromstring(response.text)\n",
    "    noticias = body.xpath('//a[contains(@class,\"hui-highlight__link\")]')\n",
    "    return noticias\n",
    "\n",
    "def get_lista_titulos_links(noticias):\n",
    "    '''\n",
    "    '''\n",
    "    lista_titulos_links = []\n",
    "    for noticia in noticias:\n",
    "        if 'title' in noticia.attrib:\n",
    "            titulo = padroniza_titulo(noticia.attrib['title'])\n",
    "            link = noticia.attrib['href']\n",
    "            lista_titulos_links.append({'titulo':\"'\"+titulo+\"'\",'link':\"'\"+link+\"'\"})\n",
    "    return lista_titulos_links\n",
    "\n",
    "noticias = get_noticias()\n",
    "lista_titulos_links = get_lista_titulos_links(noticias)"
   ]
  },
  {
   "cell_type": "markdown",
   "metadata": {},
   "source": [
    "### Criando o arquivo *.csv* "
   ]
  },
  {
   "cell_type": "code",
   "execution_count": 36,
   "metadata": {
    "collapsed": false
   },
   "outputs": [
    {
     "name": "stdout",
     "output_type": "stream",
     "text": [
      "Done!\n"
     ]
    }
   ],
   "source": [
    "csv_file = pd.DataFrame(lista_titulos_links, columns=['titulo', 'link'])\n",
    "csv_file.to_csv('globo_news.csv', sep=',', encoding='utf-8', index=False)\n",
    "print \"Done!\""
   ]
  },
  {
   "cell_type": "markdown",
   "metadata": {},
   "source": [
    "## Perguntas interessantes sobre este trabalho:"
   ]
  },
  {
   "cell_type": "markdown",
   "metadata": {},
   "source": [
    "* E se eu ficar sem conexão com a Internet?\n",
    "* E como maximizar meus crawlers ?\n",
    "* E se mudarem a estrutura da página ?"
   ]
  }
 ],
 "metadata": {
  "kernelspec": {
   "display_name": "Python 2",
   "language": "python",
   "name": "python2"
  },
  "language_info": {
   "codemirror_mode": {
    "name": "ipython",
    "version": 2
   },
   "file_extension": ".py",
   "mimetype": "text/x-python",
   "name": "python",
   "nbconvert_exporter": "python",
   "pygments_lexer": "ipython2",
   "version": "2.7.10"
  }
 },
 "nbformat": 4,
 "nbformat_minor": 0
}
