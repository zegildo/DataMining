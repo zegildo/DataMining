{
 "cells": [
  {
   "cell_type": "markdown",
   "metadata": {},
   "source": [
    "# MT11"
   ]
  },
  {
   "cell_type": "markdown",
   "metadata": {},
   "source": [
    "Realize sua análise descritiva em cima dos [dados apresentados pela UFERSA](https://angicos.ufersa.edu.br/demonstrativo-de-despesas/)\n",
    "\n",
    "1. Elabore ao menos 5 perguntas relevantes;\n",
    "\n",
    "2. Responda suas perguntas com texto e gráficos;\n",
    "\n",
    "3. Chegue a alguma conclusão ou sugestão que ajudem os gestores a melhorarem sua atividade;\n",
    "\n",
    "4. Toda atividade de ser gerada em um arquivo jupyter e submetida no github da disciplina, dentro da sua pasta pessoal, MT11.\n",
    "\n"
   ]
  },
  {
   "cell_type": "markdown",
   "metadata": {},
   "source": [
    "### Criando DataFrame:"
   ]
  },
  {
   "cell_type": "code",
   "execution_count": 33,
   "metadata": {
    "collapsed": false
   },
   "outputs": [],
   "source": [
    "import pandas as pd\n",
    "import numpy as np\n",
    "from collections import OrderedDict\n",
    "data = OrderedDict(\n",
    "{\n",
    "'Energia':[19181.70, 35118.33,40427.86,36626.66,41831.68,31673.67,38177.03,42899.09,45046.06,43557.83,34007.34,0],\n",
    "'Agua':[5041.66,6663.98,4061.18,4340.74,4061.18,5034.82,4938.42,2200.66,4176.86,3829.82,4292.54,0],\n",
    "'Correios':[38.66,0,0,73.02,0,0,22.30,21.55,0,0,0,0],\n",
    "'Bolsas_Auxilios':[44500,57440,102790,102790,102790,68780,71630,105580,105580,105920,68410,21420],\n",
    "'Limpeza':[149748.98,41976.55,43617.20,43617.20,56563.36,46404.01,45162.71,46404.04,46404.01,46404.01,46404.01,0],\n",
    "'Portaria':[0,0,9599.48,20570.24,20570.24,20570.24,20570.24,20570.24,20570.24,20570.24,20570.24,0],\n",
    "'Vigilancia':[36887.62,36887.62,18667.74,18667.74,18667.74,18667.74,18667.74,18667.74,18667.74,18667.74,18667.74,0],\n",
    "'Agua_mineral':[1083.60,595.98,866.88,602,559.86,608.02,620.06,602,638.12,589.96,620.06,0],\n",
    "'Motorista':[16482.12,18982.12,17122.12,20112.12,19262.12,18712.12,16972.12,76002.5,22318.16,21999.19,22019.58,0],\n",
    "'Reprografia':[62.10,299.25,352.35,157.95,319.05,106.2,434.1,478.05,468.9,191.1,202.5,0],\n",
    "'Inscricoes':[0,0,250,1200,0,850,0,0,2080,3800,4320,2965],\n",
    "'Aluno_evento':[0,0,0,0,720,0,1550,6300,2740,6120,700,0],\n",
    "'Dispesas':[0,0,0,0,0,0,0,0,6850,1560,0,0]\n",
    "})\n",
    "MESES = ['JAN','FEV','MAR','ABR','MAI','JUN','JUL','AGO','SET','OUT','NOV','DEZ']"
   ]
  },
  {
   "cell_type": "code",
   "execution_count": 34,
   "metadata": {
    "collapsed": false
   },
   "outputs": [
    {
     "data": {
      "text/html": [
       "<div>\n",
       "<table border=\"1\" class=\"dataframe\">\n",
       "  <thead>\n",
       "    <tr style=\"text-align: right;\">\n",
       "      <th></th>\n",
       "      <th>Limpeza</th>\n",
       "      <th>Correios</th>\n",
       "      <th>Energia</th>\n",
       "      <th>Reprografia</th>\n",
       "      <th>Agua_mineral</th>\n",
       "      <th>Bolsas_Auxilios</th>\n",
       "      <th>Aluno_evento</th>\n",
       "      <th>Inscricoes</th>\n",
       "      <th>Portaria</th>\n",
       "      <th>Dispesas</th>\n",
       "      <th>Agua</th>\n",
       "      <th>Vigilancia</th>\n",
       "      <th>Motorista</th>\n",
       "    </tr>\n",
       "  </thead>\n",
       "  <tbody>\n",
       "    <tr>\n",
       "      <th>0</th>\n",
       "      <td>149748.98</td>\n",
       "      <td>38.66</td>\n",
       "      <td>19181.70</td>\n",
       "      <td>62.10</td>\n",
       "      <td>1083.60</td>\n",
       "      <td>44500</td>\n",
       "      <td>0</td>\n",
       "      <td>0</td>\n",
       "      <td>0.00</td>\n",
       "      <td>0</td>\n",
       "      <td>5041.66</td>\n",
       "      <td>36887.62</td>\n",
       "      <td>16482.12</td>\n",
       "    </tr>\n",
       "    <tr>\n",
       "      <th>1</th>\n",
       "      <td>41976.55</td>\n",
       "      <td>0.00</td>\n",
       "      <td>35118.33</td>\n",
       "      <td>299.25</td>\n",
       "      <td>595.98</td>\n",
       "      <td>57440</td>\n",
       "      <td>0</td>\n",
       "      <td>0</td>\n",
       "      <td>0.00</td>\n",
       "      <td>0</td>\n",
       "      <td>6663.98</td>\n",
       "      <td>36887.62</td>\n",
       "      <td>18982.12</td>\n",
       "    </tr>\n",
       "    <tr>\n",
       "      <th>2</th>\n",
       "      <td>43617.20</td>\n",
       "      <td>0.00</td>\n",
       "      <td>40427.86</td>\n",
       "      <td>352.35</td>\n",
       "      <td>866.88</td>\n",
       "      <td>102790</td>\n",
       "      <td>0</td>\n",
       "      <td>250</td>\n",
       "      <td>9599.48</td>\n",
       "      <td>0</td>\n",
       "      <td>4061.18</td>\n",
       "      <td>18667.74</td>\n",
       "      <td>17122.12</td>\n",
       "    </tr>\n",
       "    <tr>\n",
       "      <th>3</th>\n",
       "      <td>43617.20</td>\n",
       "      <td>73.02</td>\n",
       "      <td>36626.66</td>\n",
       "      <td>157.95</td>\n",
       "      <td>602.00</td>\n",
       "      <td>102790</td>\n",
       "      <td>0</td>\n",
       "      <td>1200</td>\n",
       "      <td>20570.24</td>\n",
       "      <td>0</td>\n",
       "      <td>4340.74</td>\n",
       "      <td>18667.74</td>\n",
       "      <td>20112.12</td>\n",
       "    </tr>\n",
       "    <tr>\n",
       "      <th>4</th>\n",
       "      <td>56563.36</td>\n",
       "      <td>0.00</td>\n",
       "      <td>41831.68</td>\n",
       "      <td>319.05</td>\n",
       "      <td>559.86</td>\n",
       "      <td>102790</td>\n",
       "      <td>720</td>\n",
       "      <td>0</td>\n",
       "      <td>20570.24</td>\n",
       "      <td>0</td>\n",
       "      <td>4061.18</td>\n",
       "      <td>18667.74</td>\n",
       "      <td>19262.12</td>\n",
       "    </tr>\n",
       "    <tr>\n",
       "      <th>5</th>\n",
       "      <td>46404.01</td>\n",
       "      <td>0.00</td>\n",
       "      <td>31673.67</td>\n",
       "      <td>106.20</td>\n",
       "      <td>608.02</td>\n",
       "      <td>68780</td>\n",
       "      <td>0</td>\n",
       "      <td>850</td>\n",
       "      <td>20570.24</td>\n",
       "      <td>0</td>\n",
       "      <td>5034.82</td>\n",
       "      <td>18667.74</td>\n",
       "      <td>18712.12</td>\n",
       "    </tr>\n",
       "    <tr>\n",
       "      <th>6</th>\n",
       "      <td>45162.71</td>\n",
       "      <td>22.30</td>\n",
       "      <td>38177.03</td>\n",
       "      <td>434.10</td>\n",
       "      <td>620.06</td>\n",
       "      <td>71630</td>\n",
       "      <td>1550</td>\n",
       "      <td>0</td>\n",
       "      <td>20570.24</td>\n",
       "      <td>0</td>\n",
       "      <td>4938.42</td>\n",
       "      <td>18667.74</td>\n",
       "      <td>16972.12</td>\n",
       "    </tr>\n",
       "    <tr>\n",
       "      <th>7</th>\n",
       "      <td>46404.04</td>\n",
       "      <td>21.55</td>\n",
       "      <td>42899.09</td>\n",
       "      <td>478.05</td>\n",
       "      <td>602.00</td>\n",
       "      <td>105580</td>\n",
       "      <td>6300</td>\n",
       "      <td>0</td>\n",
       "      <td>20570.24</td>\n",
       "      <td>0</td>\n",
       "      <td>2200.66</td>\n",
       "      <td>18667.74</td>\n",
       "      <td>76002.50</td>\n",
       "    </tr>\n",
       "    <tr>\n",
       "      <th>8</th>\n",
       "      <td>46404.01</td>\n",
       "      <td>0.00</td>\n",
       "      <td>45046.06</td>\n",
       "      <td>468.90</td>\n",
       "      <td>638.12</td>\n",
       "      <td>105580</td>\n",
       "      <td>2740</td>\n",
       "      <td>2080</td>\n",
       "      <td>20570.24</td>\n",
       "      <td>6850</td>\n",
       "      <td>4176.86</td>\n",
       "      <td>18667.74</td>\n",
       "      <td>22318.16</td>\n",
       "    </tr>\n",
       "    <tr>\n",
       "      <th>9</th>\n",
       "      <td>46404.01</td>\n",
       "      <td>0.00</td>\n",
       "      <td>43557.83</td>\n",
       "      <td>191.10</td>\n",
       "      <td>589.96</td>\n",
       "      <td>105920</td>\n",
       "      <td>6120</td>\n",
       "      <td>3800</td>\n",
       "      <td>20570.24</td>\n",
       "      <td>1560</td>\n",
       "      <td>3829.82</td>\n",
       "      <td>18667.74</td>\n",
       "      <td>21999.19</td>\n",
       "    </tr>\n",
       "    <tr>\n",
       "      <th>10</th>\n",
       "      <td>46404.01</td>\n",
       "      <td>0.00</td>\n",
       "      <td>34007.34</td>\n",
       "      <td>202.50</td>\n",
       "      <td>620.06</td>\n",
       "      <td>68410</td>\n",
       "      <td>700</td>\n",
       "      <td>4320</td>\n",
       "      <td>20570.24</td>\n",
       "      <td>0</td>\n",
       "      <td>4292.54</td>\n",
       "      <td>18667.74</td>\n",
       "      <td>22019.58</td>\n",
       "    </tr>\n",
       "    <tr>\n",
       "      <th>11</th>\n",
       "      <td>0.00</td>\n",
       "      <td>0.00</td>\n",
       "      <td>0.00</td>\n",
       "      <td>0.00</td>\n",
       "      <td>0.00</td>\n",
       "      <td>21420</td>\n",
       "      <td>0</td>\n",
       "      <td>2965</td>\n",
       "      <td>0.00</td>\n",
       "      <td>0</td>\n",
       "      <td>0.00</td>\n",
       "      <td>0.00</td>\n",
       "      <td>0.00</td>\n",
       "    </tr>\n",
       "  </tbody>\n",
       "</table>\n",
       "</div>"
      ],
      "text/plain": [
       "      Limpeza  Correios   Energia  Reprografia  Agua_mineral  Bolsas_Auxilios  \\\n",
       "0   149748.98     38.66  19181.70        62.10       1083.60            44500   \n",
       "1    41976.55      0.00  35118.33       299.25        595.98            57440   \n",
       "2    43617.20      0.00  40427.86       352.35        866.88           102790   \n",
       "3    43617.20     73.02  36626.66       157.95        602.00           102790   \n",
       "4    56563.36      0.00  41831.68       319.05        559.86           102790   \n",
       "5    46404.01      0.00  31673.67       106.20        608.02            68780   \n",
       "6    45162.71     22.30  38177.03       434.10        620.06            71630   \n",
       "7    46404.04     21.55  42899.09       478.05        602.00           105580   \n",
       "8    46404.01      0.00  45046.06       468.90        638.12           105580   \n",
       "9    46404.01      0.00  43557.83       191.10        589.96           105920   \n",
       "10   46404.01      0.00  34007.34       202.50        620.06            68410   \n",
       "11       0.00      0.00      0.00         0.00          0.00            21420   \n",
       "\n",
       "    Aluno_evento  Inscricoes  Portaria  Dispesas     Agua  Vigilancia  \\\n",
       "0              0           0      0.00         0  5041.66    36887.62   \n",
       "1              0           0      0.00         0  6663.98    36887.62   \n",
       "2              0         250   9599.48         0  4061.18    18667.74   \n",
       "3              0        1200  20570.24         0  4340.74    18667.74   \n",
       "4            720           0  20570.24         0  4061.18    18667.74   \n",
       "5              0         850  20570.24         0  5034.82    18667.74   \n",
       "6           1550           0  20570.24         0  4938.42    18667.74   \n",
       "7           6300           0  20570.24         0  2200.66    18667.74   \n",
       "8           2740        2080  20570.24      6850  4176.86    18667.74   \n",
       "9           6120        3800  20570.24      1560  3829.82    18667.74   \n",
       "10           700        4320  20570.24         0  4292.54    18667.74   \n",
       "11             0        2965      0.00         0     0.00        0.00   \n",
       "\n",
       "    Motorista  \n",
       "0    16482.12  \n",
       "1    18982.12  \n",
       "2    17122.12  \n",
       "3    20112.12  \n",
       "4    19262.12  \n",
       "5    18712.12  \n",
       "6    16972.12  \n",
       "7    76002.50  \n",
       "8    22318.16  \n",
       "9    21999.19  \n",
       "10   22019.58  \n",
       "11       0.00  "
      ]
     },
     "execution_count": 34,
     "metadata": {},
     "output_type": "execute_result"
    }
   ],
   "source": [
    "df = pd.DataFrame(data)\n",
    "df"
   ]
  },
  {
   "cell_type": "markdown",
   "metadata": {},
   "source": [
    "### Dicionário:"
   ]
  },
  {
   "cell_type": "markdown",
   "metadata": {},
   "source": [
    "* Reprografia: \n",
    "    * *conjunto de técnicas que permitem reproduzir um documento.*\n",
    "\n",
    "\n",
    "* Qual a diferença entre vigilância e portaria?:\n",
    "* Qual a diferença entre aluno evento e inscrições?:\n",
    "* Por que o valor da portaria em janeiro é 0?:\n",
    "* Por que a vigilância é dobrada em Janeiro e Fevereiro?:\n",
    "* Por que a limpeza é triplicada no mês de Janeiro?:"
   ]
  },
  {
   "cell_type": "markdown",
   "metadata": {},
   "source": [
    "## Perguntas:"
   ]
  },
  {
   "cell_type": "markdown",
   "metadata": {},
   "source": [
    "### 1. Qual mês possui maior gasto?"
   ]
  },
  {
   "cell_type": "code",
   "execution_count": 5,
   "metadata": {
    "collapsed": false
   },
   "outputs": [
    {
     "data": {
      "text/plain": [
       "[273026.44,\n",
       " 197963.83000000002,\n",
       " 237754.81,\n",
       " 248757.66999999995,\n",
       " 265345.22999999998,\n",
       " 211406.82000000001,\n",
       " 218744.72,\n",
       " 319725.87,\n",
       " 275540.08999999997,\n",
       " 273209.89000000001,\n",
       " 220214.01000000001,\n",
       " 24385.0]"
      ]
     },
     "execution_count": 5,
     "metadata": {},
     "output_type": "execute_result"
    }
   ],
   "source": [
    "y = [df.iloc[[mes]].values.sum() for mes in xrange(12)]\n",
    "x = range(12)\n",
    "y"
   ]
  },
  {
   "cell_type": "code",
   "execution_count": 15,
   "metadata": {
    "collapsed": false
   },
   "outputs": [
    {
     "data": {
      "image/png": "[encoded data removed]",
      "text/plain": [
       "<matplotlib.figure.Figure at 0x1081aea10>"
      ]
     },
     "metadata": {},
     "output_type": "display_data"
    }
   ],
   "source": [
    "%matplotlib inline  \n",
    "import matplotlib.pyplot as plt\n",
    "fig = plt.gcf()\n",
    "\n",
    "my_xticks = MESES\n",
    "plt.xticks(x, my_xticks)\n",
    "plt.plot(x, y) \n",
    "plt.title('GASTOS POR MES')\n",
    "plt.xlabel('MESES')\n",
    "plt.ylabel('GASTOS')\n",
    "fig.set_size_inches(18.5, 10.5)\n",
    "plt.show()"
   ]
  },
  {
   "cell_type": "markdown",
   "metadata": {},
   "source": [
    "### 2. Qual a dispesa mais instável?"
   ]
  },
  {
   "cell_type": "code",
   "execution_count": 18,
   "metadata": {
    "collapsed": false
   },
   "outputs": [
    {
     "data": {
      "image/png": "[encoded data removed]",
      "text/plain": [
       "<matplotlib.figure.Figure at 0x1078910d0>"
      ]
     },
     "metadata": {},
     "output_type": "display_data"
    }
   ],
   "source": [
    "df.plot.box()\n",
    "plt.title('BOXPLOT DISPESAS')\n",
    "plt.xlabel('DISPESA')\n",
    "plt.ylabel('VALOR EM REAIS')\n",
    "fig = plt.gcf()\n",
    "fig.set_size_inches(18.5, 10.5)\n",
    "plt.show()"
   ]
  },
  {
   "cell_type": "markdown",
   "metadata": {},
   "source": [
    "### 3. Qual a variação de gastos anual?"
   ]
  },
  {
   "cell_type": "code",
   "execution_count": 24,
   "metadata": {
    "collapsed": false
   },
   "outputs": [
    {
     "data": {
      "text/plain": [
       "0.61916738235789304"
      ]
     },
     "execution_count": 24,
     "metadata": {},
     "output_type": "execute_result"
    }
   ],
   "source": [
    "min(y[:-1])/max(y)"
   ]
  },
  {
   "cell_type": "markdown",
   "metadata": {},
   "source": [
    "### 4. Qual o comportamento das dispesas ao longo do ano?"
   ]
  },
  {
   "cell_type": "markdown",
   "metadata": {},
   "source": [
    "*vide fig 1*"
   ]
  },
  {
   "cell_type": "markdown",
   "metadata": {},
   "source": [
    "### 5. Qual o gasto médio de auxílio por aluno?"
   ]
  },
  {
   "cell_type": "code",
   "execution_count": 32,
   "metadata": {
    "collapsed": false
   },
   "outputs": [
    {
     "data": {
      "text/plain": [
       "715"
      ]
     },
     "execution_count": 32,
     "metadata": {},
     "output_type": "execute_result"
    }
   ],
   "source": [
    "QT_ALUNOS = 1339\n",
    "BOLSAS_AUXILIOS = df['Bolsas_Auxilios'].sum()\n",
    "\n",
    "BOLSAS_AUXILIOS/QT_ALUNOS"
   ]
  },
  {
   "cell_type": "markdown",
   "metadata": {},
   "source": [
    "## Conclusão:"
   ]
  },
  {
   "cell_type": "code",
   "execution_count": null,
   "metadata": {
    "collapsed": true
   },
   "outputs": [],
   "source": []
  }
 ],
 "metadata": {
  "kernelspec": {
   "display_name": "Python 2",
   "language": "python",
   "name": "python2"
  },
  "language_info": {
   "codemirror_mode": {
    "name": "ipython",
    "version": 2
   },
   "file_extension": ".py",
   "mimetype": "text/x-python",
   "name": "python",
   "nbconvert_exporter": "python",
   "pygments_lexer": "ipython2",
   "version": "2.7.10"
  }
 },
 "nbformat": 4,
 "nbformat_minor": 0
}
