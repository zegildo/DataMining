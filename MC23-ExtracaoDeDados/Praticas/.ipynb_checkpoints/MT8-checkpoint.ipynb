{
 "cells": [
  {
   "cell_type": "markdown",
   "metadata": {},
   "source": [
    "# Coletar notícias do "
   ]
  },
  {
   "cell_type": "code",
   "execution_count": null,
   "metadata": {
    "collapsed": true
   },
   "outputs": [],
   "source": [
    "import requests\n",
    "from lxml import html\n",
    "import pandas as pd\n",
    "\n",
    "def padroniza_titulo(titulo):\n",
    "    return titulo.encode('latin-1').decode('string_escape')\n",
    "\n",
    "def get_lista_noticias():\n",
    "    URL = 'http://www.globo.com/'\n",
    "    response = requests.get(URL)  \n",
    "    body = html.fromstring(response.text)\n",
    "    noticias = body.xpath('//a[contains(@class,\"hui-highlight__link\")]')\n",
    "    return noticias\n",
    "\n",
    "def lista_titulos_links(noticias):\n",
    "    lista_titulos_links = []\n",
    "    for noticia in noticias:\n",
    "        if 'title' in noticia.attrib:\n",
    "            titulo = padroniza_titulo(noticia.attrib['title'])\n",
    "            link = noticia.attrib['href']\n",
    "            #adicione seu cógico aqui\n",
    "    return lista_titulos_links\n",
    "\n",
    "noticias = get_lista_noticias()\n",
    "lista_titulos_links = lista_titulos_links(noticias)\n",
    "csv_file = pd.DataFrame(lista_titulos_links)\n",
    "#salve seu csv aqui"
   ]
  }
 ],
 "metadata": {
  "kernelspec": {
   "display_name": "Python 2",
   "language": "python",
   "name": "python2"
  },
  "language_info": {
   "codemirror_mode": {
    "name": "ipython",
    "version": 2
   },
   "file_extension": ".py",
   "mimetype": "text/x-python",
   "name": "python",
   "nbconvert_exporter": "python",
   "pygments_lexer": "ipython2",
   "version": "2.7.10"
  }
 },
 "nbformat": 4,
 "nbformat_minor": 0
}
